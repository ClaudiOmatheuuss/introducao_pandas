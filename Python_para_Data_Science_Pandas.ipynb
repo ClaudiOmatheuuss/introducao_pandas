{
  "nbformat": 4,
  "nbformat_minor": 0,
  "metadata": {
    "kernelspec": {
      "display_name": "Python 3",
      "language": "python",
      "name": "python3"
    },
    "language_info": {
      "codemirror_mode": {
        "name": "ipython",
        "version": 3
      },
      "file_extension": ".py",
      "mimetype": "text/x-python",
      "name": "python",
      "nbconvert_exporter": "python",
      "pygments_lexer": "ipython3",
      "version": "3.7.3"
    },
    "colab": {
      "provenance": [],
      "include_colab_link": true
    }
  },
  "cells": [
    {
      "cell_type": "markdown",
      "metadata": {
        "id": "view-in-github",
        "colab_type": "text"
      },
      "source": [
        "<a href=\"https://colab.research.google.com/github/ClaudiOmatheuuss/introducao_pandas/blob/main/Python_para_Data_Science_Pandas.ipynb\" target=\"_parent\"><img src=\"https://colab.research.google.com/assets/colab-badge.svg\" alt=\"Open In Colab\"/></a>"
      ]
    },
    {
      "cell_type": "markdown",
      "metadata": {
        "id": "W4bTJkJED0-t"
      },
      "source": [
        "# <font color=green> PYTHON PARA DATA SCIENCE - PANDAS\n",
        "---"
      ]
    },
    {
      "cell_type": "markdown",
      "metadata": {
        "id": "GOEcCc62D0-x"
      },
      "source": [
        "# <font color=green> 1. INTRODUÇÃO AO PYTHON\n",
        "---"
      ]
    },
    {
      "cell_type": "markdown",
      "metadata": {
        "id": "oGvoOJ-XD0-y"
      },
      "source": [
        "# 1.1 Introdução"
      ]
    },
    {
      "cell_type": "markdown",
      "metadata": {
        "id": "fam3BM0aD0-z"
      },
      "source": [
        "> Python é uma linguagem de programação de alto nível com suporte a múltiplos paradigmas de programação. É um projeto *open source* e desde seu surgimento, em 1991, vem se tornando uma das linguagens de programação interpretadas mais populares.\n",
        ">\n",
        "> Nos últimos anos Python desenvolveu uma comunidade ativa de processamento científico e análise de dados e vem se destacando como uma das linguagens mais relevantes quando o assundo é ciência de dados e machine learning, tanto no ambiente acadêmico como também no mercado."
      ]
    },
    {
      "cell_type": "markdown",
      "metadata": {
        "id": "6kH5DY-vD0-1"
      },
      "source": [
        "# 1.2 Instalação e ambiente de desenvolvimento"
      ]
    },
    {
      "cell_type": "markdown",
      "metadata": {
        "id": "BTpm79I2D0-2"
      },
      "source": [
        "### Instalação Local\n",
        "\n",
        "### https://www.python.org/downloads/\n",
        "### ou\n",
        "### https://www.anaconda.com/distribution/"
      ]
    },
    {
      "cell_type": "markdown",
      "metadata": {
        "id": "AuPS_XwRD0-3"
      },
      "source": [
        "### Google Colaboratory\n",
        "\n",
        "### https://colab.research.google.com"
      ]
    },
    {
      "cell_type": "markdown",
      "metadata": {
        "id": "4rUYsPrXD0-4"
      },
      "source": [
        "### Verificando versão"
      ]
    },
    {
      "cell_type": "code",
      "metadata": {
        "id": "PgTCVRB2D0-5"
      },
      "source": [],
      "execution_count": null,
      "outputs": []
    },
    {
      "cell_type": "markdown",
      "metadata": {
        "id": "lTtI6so4D0-9"
      },
      "source": [
        "# 1.3 Trabalhando com dados"
      ]
    },
    {
      "cell_type": "code",
      "metadata": {
        "id": "E_n4FUUWD0-9"
      },
      "source": [
        "#pd.set_option('display.max_rows', 10) <- permite ver determinada quantidade de linhas\n",
        "#pd.set_option('display.max_columns', 10) <- permite ver determinada quantidade de colunas\n",
        "\n",
        "import pandas as pd   # importa biblioteca pandas"
      ],
      "execution_count": null,
      "outputs": []
    },
    {
      "cell_type": "code",
      "metadata": {
        "id": "Kq-JdRHFD0-_"
      },
      "source": [
        "# lê o arquivo .csv externo, transforma em um Dataframe e armazena na variavel dataset\n",
        "dataset = pd.read_csv('/db.csv', sep = ';')"
      ],
      "execution_count": null,
      "outputs": []
    },
    {
      "cell_type": "code",
      "source": [
        "dataset"
      ],
      "metadata": {
        "colab": {
          "base_uri": "https://localhost:8080/",
          "height": 424
        },
        "id": "N0CuD5mAgPFO",
        "outputId": "1d48db48-2f7a-429a-bd04-90a48b924421"
      },
      "execution_count": null,
      "outputs": [
        {
          "output_type": "execute_result",
          "data": {
            "text/plain": [
              "                      Nome                  Motor   Ano  Quilometragem  \\\n",
              "0            Jetta Variant        Motor 4.0 Turbo  2003        44410.0   \n",
              "1                   Passat           Motor Diesel  1991         5712.0   \n",
              "2                 Crossfox        Motor Diesel V8  1990        37123.0   \n",
              "3                      DS5        Motor 2.4 Turbo  2019            NaN   \n",
              "4         Aston Martin DB4        Motor 2.4 Turbo  2006        25757.0   \n",
              "..                     ...                    ...   ...            ...   \n",
              "253           Phantom 2013               Motor V8  2014        27505.0   \n",
              "254  Cadillac Ciel concept               Motor V8  1991        29981.0   \n",
              "255             Classe GLK  Motor 5.0 V8 Bi-Turbo  2002        52637.0   \n",
              "256       Aston Martin DB5           Motor Diesel  1996         7685.0   \n",
              "257                  Macan        Motor Diesel V6  1992        50188.0   \n",
              "\n",
              "     Zero_km                                         Acessórios      Valor  \n",
              "0      False  ['Rodas de liga', 'Travas elétricas', 'Piloto ...   88078.64  \n",
              "1      False  ['Central multimídia', 'Teto panorâmico', 'Fre...  106161.94  \n",
              "2      False  ['Piloto automático', 'Controle de estabilidad...   72832.16  \n",
              "3       True  ['Travas elétricas', '4 X 4', 'Vidros elétrico...  124549.07  \n",
              "4      False  ['Rodas de liga', '4 X 4', 'Central multimídia...   92612.10  \n",
              "..       ...                                                ...        ...  \n",
              "253    False  ['Controle de estabilidade', 'Piloto automátic...   51759.58  \n",
              "254    False  ['Bancos de couro', 'Painel digital', 'Sensor ...   51667.06  \n",
              "255    False  ['Rodas de liga', 'Controle de tração', 'Câmbi...   68934.03  \n",
              "256    False  ['Ar condicionado', '4 X 4', 'Câmbio automátic...  122110.90  \n",
              "257    False  ['Central multimídia', 'Teto panorâmico', 'Vid...   90381.47  \n",
              "\n",
              "[258 rows x 7 columns]"
            ],
            "text/html": [
              "\n",
              "  <div id=\"df-36f917fb-db51-4ef3-8f5e-4b2800ac10b5\" class=\"colab-df-container\">\n",
              "    <div>\n",
              "<style scoped>\n",
              "    .dataframe tbody tr th:only-of-type {\n",
              "        vertical-align: middle;\n",
              "    }\n",
              "\n",
              "    .dataframe tbody tr th {\n",
              "        vertical-align: top;\n",
              "    }\n",
              "\n",
              "    .dataframe thead th {\n",
              "        text-align: right;\n",
              "    }\n",
              "</style>\n",
              "<table border=\"1\" class=\"dataframe\">\n",
              "  <thead>\n",
              "    <tr style=\"text-align: right;\">\n",
              "      <th></th>\n",
              "      <th>Nome</th>\n",
              "      <th>Motor</th>\n",
              "      <th>Ano</th>\n",
              "      <th>Quilometragem</th>\n",
              "      <th>Zero_km</th>\n",
              "      <th>Acessórios</th>\n",
              "      <th>Valor</th>\n",
              "    </tr>\n",
              "  </thead>\n",
              "  <tbody>\n",
              "    <tr>\n",
              "      <th>0</th>\n",
              "      <td>Jetta Variant</td>\n",
              "      <td>Motor 4.0 Turbo</td>\n",
              "      <td>2003</td>\n",
              "      <td>44410.0</td>\n",
              "      <td>False</td>\n",
              "      <td>['Rodas de liga', 'Travas elétricas', 'Piloto ...</td>\n",
              "      <td>88078.64</td>\n",
              "    </tr>\n",
              "    <tr>\n",
              "      <th>1</th>\n",
              "      <td>Passat</td>\n",
              "      <td>Motor Diesel</td>\n",
              "      <td>1991</td>\n",
              "      <td>5712.0</td>\n",
              "      <td>False</td>\n",
              "      <td>['Central multimídia', 'Teto panorâmico', 'Fre...</td>\n",
              "      <td>106161.94</td>\n",
              "    </tr>\n",
              "    <tr>\n",
              "      <th>2</th>\n",
              "      <td>Crossfox</td>\n",
              "      <td>Motor Diesel V8</td>\n",
              "      <td>1990</td>\n",
              "      <td>37123.0</td>\n",
              "      <td>False</td>\n",
              "      <td>['Piloto automático', 'Controle de estabilidad...</td>\n",
              "      <td>72832.16</td>\n",
              "    </tr>\n",
              "    <tr>\n",
              "      <th>3</th>\n",
              "      <td>DS5</td>\n",
              "      <td>Motor 2.4 Turbo</td>\n",
              "      <td>2019</td>\n",
              "      <td>NaN</td>\n",
              "      <td>True</td>\n",
              "      <td>['Travas elétricas', '4 X 4', 'Vidros elétrico...</td>\n",
              "      <td>124549.07</td>\n",
              "    </tr>\n",
              "    <tr>\n",
              "      <th>4</th>\n",
              "      <td>Aston Martin DB4</td>\n",
              "      <td>Motor 2.4 Turbo</td>\n",
              "      <td>2006</td>\n",
              "      <td>25757.0</td>\n",
              "      <td>False</td>\n",
              "      <td>['Rodas de liga', '4 X 4', 'Central multimídia...</td>\n",
              "      <td>92612.10</td>\n",
              "    </tr>\n",
              "    <tr>\n",
              "      <th>...</th>\n",
              "      <td>...</td>\n",
              "      <td>...</td>\n",
              "      <td>...</td>\n",
              "      <td>...</td>\n",
              "      <td>...</td>\n",
              "      <td>...</td>\n",
              "      <td>...</td>\n",
              "    </tr>\n",
              "    <tr>\n",
              "      <th>253</th>\n",
              "      <td>Phantom 2013</td>\n",
              "      <td>Motor V8</td>\n",
              "      <td>2014</td>\n",
              "      <td>27505.0</td>\n",
              "      <td>False</td>\n",
              "      <td>['Controle de estabilidade', 'Piloto automátic...</td>\n",
              "      <td>51759.58</td>\n",
              "    </tr>\n",
              "    <tr>\n",
              "      <th>254</th>\n",
              "      <td>Cadillac Ciel concept</td>\n",
              "      <td>Motor V8</td>\n",
              "      <td>1991</td>\n",
              "      <td>29981.0</td>\n",
              "      <td>False</td>\n",
              "      <td>['Bancos de couro', 'Painel digital', 'Sensor ...</td>\n",
              "      <td>51667.06</td>\n",
              "    </tr>\n",
              "    <tr>\n",
              "      <th>255</th>\n",
              "      <td>Classe GLK</td>\n",
              "      <td>Motor 5.0 V8 Bi-Turbo</td>\n",
              "      <td>2002</td>\n",
              "      <td>52637.0</td>\n",
              "      <td>False</td>\n",
              "      <td>['Rodas de liga', 'Controle de tração', 'Câmbi...</td>\n",
              "      <td>68934.03</td>\n",
              "    </tr>\n",
              "    <tr>\n",
              "      <th>256</th>\n",
              "      <td>Aston Martin DB5</td>\n",
              "      <td>Motor Diesel</td>\n",
              "      <td>1996</td>\n",
              "      <td>7685.0</td>\n",
              "      <td>False</td>\n",
              "      <td>['Ar condicionado', '4 X 4', 'Câmbio automátic...</td>\n",
              "      <td>122110.90</td>\n",
              "    </tr>\n",
              "    <tr>\n",
              "      <th>257</th>\n",
              "      <td>Macan</td>\n",
              "      <td>Motor Diesel V6</td>\n",
              "      <td>1992</td>\n",
              "      <td>50188.0</td>\n",
              "      <td>False</td>\n",
              "      <td>['Central multimídia', 'Teto panorâmico', 'Vid...</td>\n",
              "      <td>90381.47</td>\n",
              "    </tr>\n",
              "  </tbody>\n",
              "</table>\n",
              "<p>258 rows × 7 columns</p>\n",
              "</div>\n",
              "    <div class=\"colab-df-buttons\">\n",
              "\n",
              "  <div class=\"colab-df-container\">\n",
              "    <button class=\"colab-df-convert\" onclick=\"convertToInteractive('df-36f917fb-db51-4ef3-8f5e-4b2800ac10b5')\"\n",
              "            title=\"Convert this dataframe to an interactive table.\"\n",
              "            style=\"display:none;\">\n",
              "\n",
              "  <svg xmlns=\"http://www.w3.org/2000/svg\" height=\"24px\" viewBox=\"0 -960 960 960\">\n",
              "    <path d=\"M120-120v-720h720v720H120Zm60-500h600v-160H180v160Zm220 220h160v-160H400v160Zm0 220h160v-160H400v160ZM180-400h160v-160H180v160Zm440 0h160v-160H620v160ZM180-180h160v-160H180v160Zm440 0h160v-160H620v160Z\"/>\n",
              "  </svg>\n",
              "    </button>\n",
              "\n",
              "  <style>\n",
              "    .colab-df-container {\n",
              "      display:flex;\n",
              "      gap: 12px;\n",
              "    }\n",
              "\n",
              "    .colab-df-convert {\n",
              "      background-color: #E8F0FE;\n",
              "      border: none;\n",
              "      border-radius: 50%;\n",
              "      cursor: pointer;\n",
              "      display: none;\n",
              "      fill: #1967D2;\n",
              "      height: 32px;\n",
              "      padding: 0 0 0 0;\n",
              "      width: 32px;\n",
              "    }\n",
              "\n",
              "    .colab-df-convert:hover {\n",
              "      background-color: #E2EBFA;\n",
              "      box-shadow: 0px 1px 2px rgba(60, 64, 67, 0.3), 0px 1px 3px 1px rgba(60, 64, 67, 0.15);\n",
              "      fill: #174EA6;\n",
              "    }\n",
              "\n",
              "    .colab-df-buttons div {\n",
              "      margin-bottom: 4px;\n",
              "    }\n",
              "\n",
              "    [theme=dark] .colab-df-convert {\n",
              "      background-color: #3B4455;\n",
              "      fill: #D2E3FC;\n",
              "    }\n",
              "\n",
              "    [theme=dark] .colab-df-convert:hover {\n",
              "      background-color: #434B5C;\n",
              "      box-shadow: 0px 1px 3px 1px rgba(0, 0, 0, 0.15);\n",
              "      filter: drop-shadow(0px 1px 2px rgba(0, 0, 0, 0.3));\n",
              "      fill: #FFFFFF;\n",
              "    }\n",
              "  </style>\n",
              "\n",
              "    <script>\n",
              "      const buttonEl =\n",
              "        document.querySelector('#df-36f917fb-db51-4ef3-8f5e-4b2800ac10b5 button.colab-df-convert');\n",
              "      buttonEl.style.display =\n",
              "        google.colab.kernel.accessAllowed ? 'block' : 'none';\n",
              "\n",
              "      async function convertToInteractive(key) {\n",
              "        const element = document.querySelector('#df-36f917fb-db51-4ef3-8f5e-4b2800ac10b5');\n",
              "        const dataTable =\n",
              "          await google.colab.kernel.invokeFunction('convertToInteractive',\n",
              "                                                    [key], {});\n",
              "        if (!dataTable) return;\n",
              "\n",
              "        const docLinkHtml = 'Like what you see? Visit the ' +\n",
              "          '<a target=\"_blank\" href=https://colab.research.google.com/notebooks/data_table.ipynb>data table notebook</a>'\n",
              "          + ' to learn more about interactive tables.';\n",
              "        element.innerHTML = '';\n",
              "        dataTable['output_type'] = 'display_data';\n",
              "        await google.colab.output.renderOutput(dataTable, element);\n",
              "        const docLink = document.createElement('div');\n",
              "        docLink.innerHTML = docLinkHtml;\n",
              "        element.appendChild(docLink);\n",
              "      }\n",
              "    </script>\n",
              "  </div>\n",
              "\n",
              "\n",
              "<div id=\"df-e31ad312-43b5-42f7-9ede-0f3fa9e50178\">\n",
              "  <button class=\"colab-df-quickchart\" onclick=\"quickchart('df-e31ad312-43b5-42f7-9ede-0f3fa9e50178')\"\n",
              "            title=\"Suggest charts\"\n",
              "            style=\"display:none;\">\n",
              "\n",
              "<svg xmlns=\"http://www.w3.org/2000/svg\" height=\"24px\"viewBox=\"0 0 24 24\"\n",
              "     width=\"24px\">\n",
              "    <g>\n",
              "        <path d=\"M19 3H5c-1.1 0-2 .9-2 2v14c0 1.1.9 2 2 2h14c1.1 0 2-.9 2-2V5c0-1.1-.9-2-2-2zM9 17H7v-7h2v7zm4 0h-2V7h2v10zm4 0h-2v-4h2v4z\"/>\n",
              "    </g>\n",
              "</svg>\n",
              "  </button>\n",
              "\n",
              "<style>\n",
              "  .colab-df-quickchart {\n",
              "      --bg-color: #E8F0FE;\n",
              "      --fill-color: #1967D2;\n",
              "      --hover-bg-color: #E2EBFA;\n",
              "      --hover-fill-color: #174EA6;\n",
              "      --disabled-fill-color: #AAA;\n",
              "      --disabled-bg-color: #DDD;\n",
              "  }\n",
              "\n",
              "  [theme=dark] .colab-df-quickchart {\n",
              "      --bg-color: #3B4455;\n",
              "      --fill-color: #D2E3FC;\n",
              "      --hover-bg-color: #434B5C;\n",
              "      --hover-fill-color: #FFFFFF;\n",
              "      --disabled-bg-color: #3B4455;\n",
              "      --disabled-fill-color: #666;\n",
              "  }\n",
              "\n",
              "  .colab-df-quickchart {\n",
              "    background-color: var(--bg-color);\n",
              "    border: none;\n",
              "    border-radius: 50%;\n",
              "    cursor: pointer;\n",
              "    display: none;\n",
              "    fill: var(--fill-color);\n",
              "    height: 32px;\n",
              "    padding: 0;\n",
              "    width: 32px;\n",
              "  }\n",
              "\n",
              "  .colab-df-quickchart:hover {\n",
              "    background-color: var(--hover-bg-color);\n",
              "    box-shadow: 0 1px 2px rgba(60, 64, 67, 0.3), 0 1px 3px 1px rgba(60, 64, 67, 0.15);\n",
              "    fill: var(--button-hover-fill-color);\n",
              "  }\n",
              "\n",
              "  .colab-df-quickchart-complete:disabled,\n",
              "  .colab-df-quickchart-complete:disabled:hover {\n",
              "    background-color: var(--disabled-bg-color);\n",
              "    fill: var(--disabled-fill-color);\n",
              "    box-shadow: none;\n",
              "  }\n",
              "\n",
              "  .colab-df-spinner {\n",
              "    border: 2px solid var(--fill-color);\n",
              "    border-color: transparent;\n",
              "    border-bottom-color: var(--fill-color);\n",
              "    animation:\n",
              "      spin 1s steps(1) infinite;\n",
              "  }\n",
              "\n",
              "  @keyframes spin {\n",
              "    0% {\n",
              "      border-color: transparent;\n",
              "      border-bottom-color: var(--fill-color);\n",
              "      border-left-color: var(--fill-color);\n",
              "    }\n",
              "    20% {\n",
              "      border-color: transparent;\n",
              "      border-left-color: var(--fill-color);\n",
              "      border-top-color: var(--fill-color);\n",
              "    }\n",
              "    30% {\n",
              "      border-color: transparent;\n",
              "      border-left-color: var(--fill-color);\n",
              "      border-top-color: var(--fill-color);\n",
              "      border-right-color: var(--fill-color);\n",
              "    }\n",
              "    40% {\n",
              "      border-color: transparent;\n",
              "      border-right-color: var(--fill-color);\n",
              "      border-top-color: var(--fill-color);\n",
              "    }\n",
              "    60% {\n",
              "      border-color: transparent;\n",
              "      border-right-color: var(--fill-color);\n",
              "    }\n",
              "    80% {\n",
              "      border-color: transparent;\n",
              "      border-right-color: var(--fill-color);\n",
              "      border-bottom-color: var(--fill-color);\n",
              "    }\n",
              "    90% {\n",
              "      border-color: transparent;\n",
              "      border-bottom-color: var(--fill-color);\n",
              "    }\n",
              "  }\n",
              "</style>\n",
              "\n",
              "  <script>\n",
              "    async function quickchart(key) {\n",
              "      const quickchartButtonEl =\n",
              "        document.querySelector('#' + key + ' button');\n",
              "      quickchartButtonEl.disabled = true;  // To prevent multiple clicks.\n",
              "      quickchartButtonEl.classList.add('colab-df-spinner');\n",
              "      try {\n",
              "        const charts = await google.colab.kernel.invokeFunction(\n",
              "            'suggestCharts', [key], {});\n",
              "      } catch (error) {\n",
              "        console.error('Error during call to suggestCharts:', error);\n",
              "      }\n",
              "      quickchartButtonEl.classList.remove('colab-df-spinner');\n",
              "      quickchartButtonEl.classList.add('colab-df-quickchart-complete');\n",
              "    }\n",
              "    (() => {\n",
              "      let quickchartButtonEl =\n",
              "        document.querySelector('#df-e31ad312-43b5-42f7-9ede-0f3fa9e50178 button');\n",
              "      quickchartButtonEl.style.display =\n",
              "        google.colab.kernel.accessAllowed ? 'block' : 'none';\n",
              "    })();\n",
              "  </script>\n",
              "</div>\n",
              "\n",
              "  <div id=\"id_e74d63d0-7122-473c-b7e7-024a64df9cb0\">\n",
              "    <style>\n",
              "      .colab-df-generate {\n",
              "        background-color: #E8F0FE;\n",
              "        border: none;\n",
              "        border-radius: 50%;\n",
              "        cursor: pointer;\n",
              "        display: none;\n",
              "        fill: #1967D2;\n",
              "        height: 32px;\n",
              "        padding: 0 0 0 0;\n",
              "        width: 32px;\n",
              "      }\n",
              "\n",
              "      .colab-df-generate:hover {\n",
              "        background-color: #E2EBFA;\n",
              "        box-shadow: 0px 1px 2px rgba(60, 64, 67, 0.3), 0px 1px 3px 1px rgba(60, 64, 67, 0.15);\n",
              "        fill: #174EA6;\n",
              "      }\n",
              "\n",
              "      [theme=dark] .colab-df-generate {\n",
              "        background-color: #3B4455;\n",
              "        fill: #D2E3FC;\n",
              "      }\n",
              "\n",
              "      [theme=dark] .colab-df-generate:hover {\n",
              "        background-color: #434B5C;\n",
              "        box-shadow: 0px 1px 3px 1px rgba(0, 0, 0, 0.15);\n",
              "        filter: drop-shadow(0px 1px 2px rgba(0, 0, 0, 0.3));\n",
              "        fill: #FFFFFF;\n",
              "      }\n",
              "    </style>\n",
              "    <button class=\"colab-df-generate\" onclick=\"generateWithVariable('dataset')\"\n",
              "            title=\"Generate code using this dataframe.\"\n",
              "            style=\"display:none;\">\n",
              "\n",
              "  <svg xmlns=\"http://www.w3.org/2000/svg\" height=\"24px\"viewBox=\"0 0 24 24\"\n",
              "       width=\"24px\">\n",
              "    <path d=\"M7,19H8.4L18.45,9,17,7.55,7,17.6ZM5,21V16.75L18.45,3.32a2,2,0,0,1,2.83,0l1.4,1.43a1.91,1.91,0,0,1,.58,1.4,1.91,1.91,0,0,1-.58,1.4L9.25,21ZM18.45,9,17,7.55Zm-12,3A5.31,5.31,0,0,0,4.9,8.1,5.31,5.31,0,0,0,1,6.5,5.31,5.31,0,0,0,4.9,4.9,5.31,5.31,0,0,0,6.5,1,5.31,5.31,0,0,0,8.1,4.9,5.31,5.31,0,0,0,12,6.5,5.46,5.46,0,0,0,6.5,12Z\"/>\n",
              "  </svg>\n",
              "    </button>\n",
              "    <script>\n",
              "      (() => {\n",
              "      const buttonEl =\n",
              "        document.querySelector('#id_e74d63d0-7122-473c-b7e7-024a64df9cb0 button.colab-df-generate');\n",
              "      buttonEl.style.display =\n",
              "        google.colab.kernel.accessAllowed ? 'block' : 'none';\n",
              "\n",
              "      buttonEl.onclick = () => {\n",
              "        google.colab.notebook.generateWithVariable('dataset');\n",
              "      }\n",
              "      })();\n",
              "    </script>\n",
              "  </div>\n",
              "\n",
              "    </div>\n",
              "  </div>\n"
            ]
          },
          "metadata": {},
          "execution_count": 38
        }
      ]
    },
    {
      "cell_type": "code",
      "metadata": {
        "id": "5D739PzJD0_B",
        "colab": {
          "base_uri": "https://localhost:8080/"
        },
        "outputId": "45f5b267-7c6e-4532-f133-22bbd96e751e"
      },
      "source": [
        "dataset.dtypes   # retorna os tipos de dados de cada coluna do DataFrame"
      ],
      "execution_count": null,
      "outputs": [
        {
          "output_type": "execute_result",
          "data": {
            "text/plain": [
              "Nome              object\n",
              "Motor             object\n",
              "Ano                int64\n",
              "Quilometragem    float64\n",
              "Zero_km             bool\n",
              "Acessórios        object\n",
              "Valor            float64\n",
              "dtype: object"
            ]
          },
          "metadata": {},
          "execution_count": 39
        }
      ]
    },
    {
      "cell_type": "code",
      "metadata": {
        "id": "r_qUf16LD0_D",
        "colab": {
          "base_uri": "https://localhost:8080/",
          "height": 300
        },
        "outputId": "4880fbb8-436d-487c-ca39-461559d64996"
      },
      "source": [
        "dataset[['Quilometragem', 'Valor']].describe()   # gera um conjunto de estatísticas descritivas das colunas selecionadas de um DataFrame"
      ],
      "execution_count": null,
      "outputs": [
        {
          "output_type": "execute_result",
          "data": {
            "text/plain": [
              "       Quilometragem          Valor\n",
              "count     197.000000     258.000000\n",
              "mean    58278.421320   98960.513101\n",
              "std     35836.733259   29811.932305\n",
              "min       107.000000   50742.100000\n",
              "25%     27505.000000   70743.512500\n",
              "50%     55083.000000   97724.380000\n",
              "75%     90495.000000  124633.302500\n",
              "max    119945.000000  149489.920000"
            ],
            "text/html": [
              "\n",
              "  <div id=\"df-b05f4f67-b43b-4dad-8a0c-5ca418faa871\" class=\"colab-df-container\">\n",
              "    <div>\n",
              "<style scoped>\n",
              "    .dataframe tbody tr th:only-of-type {\n",
              "        vertical-align: middle;\n",
              "    }\n",
              "\n",
              "    .dataframe tbody tr th {\n",
              "        vertical-align: top;\n",
              "    }\n",
              "\n",
              "    .dataframe thead th {\n",
              "        text-align: right;\n",
              "    }\n",
              "</style>\n",
              "<table border=\"1\" class=\"dataframe\">\n",
              "  <thead>\n",
              "    <tr style=\"text-align: right;\">\n",
              "      <th></th>\n",
              "      <th>Quilometragem</th>\n",
              "      <th>Valor</th>\n",
              "    </tr>\n",
              "  </thead>\n",
              "  <tbody>\n",
              "    <tr>\n",
              "      <th>count</th>\n",
              "      <td>197.000000</td>\n",
              "      <td>258.000000</td>\n",
              "    </tr>\n",
              "    <tr>\n",
              "      <th>mean</th>\n",
              "      <td>58278.421320</td>\n",
              "      <td>98960.513101</td>\n",
              "    </tr>\n",
              "    <tr>\n",
              "      <th>std</th>\n",
              "      <td>35836.733259</td>\n",
              "      <td>29811.932305</td>\n",
              "    </tr>\n",
              "    <tr>\n",
              "      <th>min</th>\n",
              "      <td>107.000000</td>\n",
              "      <td>50742.100000</td>\n",
              "    </tr>\n",
              "    <tr>\n",
              "      <th>25%</th>\n",
              "      <td>27505.000000</td>\n",
              "      <td>70743.512500</td>\n",
              "    </tr>\n",
              "    <tr>\n",
              "      <th>50%</th>\n",
              "      <td>55083.000000</td>\n",
              "      <td>97724.380000</td>\n",
              "    </tr>\n",
              "    <tr>\n",
              "      <th>75%</th>\n",
              "      <td>90495.000000</td>\n",
              "      <td>124633.302500</td>\n",
              "    </tr>\n",
              "    <tr>\n",
              "      <th>max</th>\n",
              "      <td>119945.000000</td>\n",
              "      <td>149489.920000</td>\n",
              "    </tr>\n",
              "  </tbody>\n",
              "</table>\n",
              "</div>\n",
              "    <div class=\"colab-df-buttons\">\n",
              "\n",
              "  <div class=\"colab-df-container\">\n",
              "    <button class=\"colab-df-convert\" onclick=\"convertToInteractive('df-b05f4f67-b43b-4dad-8a0c-5ca418faa871')\"\n",
              "            title=\"Convert this dataframe to an interactive table.\"\n",
              "            style=\"display:none;\">\n",
              "\n",
              "  <svg xmlns=\"http://www.w3.org/2000/svg\" height=\"24px\" viewBox=\"0 -960 960 960\">\n",
              "    <path d=\"M120-120v-720h720v720H120Zm60-500h600v-160H180v160Zm220 220h160v-160H400v160Zm0 220h160v-160H400v160ZM180-400h160v-160H180v160Zm440 0h160v-160H620v160ZM180-180h160v-160H180v160Zm440 0h160v-160H620v160Z\"/>\n",
              "  </svg>\n",
              "    </button>\n",
              "\n",
              "  <style>\n",
              "    .colab-df-container {\n",
              "      display:flex;\n",
              "      gap: 12px;\n",
              "    }\n",
              "\n",
              "    .colab-df-convert {\n",
              "      background-color: #E8F0FE;\n",
              "      border: none;\n",
              "      border-radius: 50%;\n",
              "      cursor: pointer;\n",
              "      display: none;\n",
              "      fill: #1967D2;\n",
              "      height: 32px;\n",
              "      padding: 0 0 0 0;\n",
              "      width: 32px;\n",
              "    }\n",
              "\n",
              "    .colab-df-convert:hover {\n",
              "      background-color: #E2EBFA;\n",
              "      box-shadow: 0px 1px 2px rgba(60, 64, 67, 0.3), 0px 1px 3px 1px rgba(60, 64, 67, 0.15);\n",
              "      fill: #174EA6;\n",
              "    }\n",
              "\n",
              "    .colab-df-buttons div {\n",
              "      margin-bottom: 4px;\n",
              "    }\n",
              "\n",
              "    [theme=dark] .colab-df-convert {\n",
              "      background-color: #3B4455;\n",
              "      fill: #D2E3FC;\n",
              "    }\n",
              "\n",
              "    [theme=dark] .colab-df-convert:hover {\n",
              "      background-color: #434B5C;\n",
              "      box-shadow: 0px 1px 3px 1px rgba(0, 0, 0, 0.15);\n",
              "      filter: drop-shadow(0px 1px 2px rgba(0, 0, 0, 0.3));\n",
              "      fill: #FFFFFF;\n",
              "    }\n",
              "  </style>\n",
              "\n",
              "    <script>\n",
              "      const buttonEl =\n",
              "        document.querySelector('#df-b05f4f67-b43b-4dad-8a0c-5ca418faa871 button.colab-df-convert');\n",
              "      buttonEl.style.display =\n",
              "        google.colab.kernel.accessAllowed ? 'block' : 'none';\n",
              "\n",
              "      async function convertToInteractive(key) {\n",
              "        const element = document.querySelector('#df-b05f4f67-b43b-4dad-8a0c-5ca418faa871');\n",
              "        const dataTable =\n",
              "          await google.colab.kernel.invokeFunction('convertToInteractive',\n",
              "                                                    [key], {});\n",
              "        if (!dataTable) return;\n",
              "\n",
              "        const docLinkHtml = 'Like what you see? Visit the ' +\n",
              "          '<a target=\"_blank\" href=https://colab.research.google.com/notebooks/data_table.ipynb>data table notebook</a>'\n",
              "          + ' to learn more about interactive tables.';\n",
              "        element.innerHTML = '';\n",
              "        dataTable['output_type'] = 'display_data';\n",
              "        await google.colab.output.renderOutput(dataTable, element);\n",
              "        const docLink = document.createElement('div');\n",
              "        docLink.innerHTML = docLinkHtml;\n",
              "        element.appendChild(docLink);\n",
              "      }\n",
              "    </script>\n",
              "  </div>\n",
              "\n",
              "\n",
              "<div id=\"df-b79e9a3a-f4ea-4c19-b17d-a257ff4b526c\">\n",
              "  <button class=\"colab-df-quickchart\" onclick=\"quickchart('df-b79e9a3a-f4ea-4c19-b17d-a257ff4b526c')\"\n",
              "            title=\"Suggest charts\"\n",
              "            style=\"display:none;\">\n",
              "\n",
              "<svg xmlns=\"http://www.w3.org/2000/svg\" height=\"24px\"viewBox=\"0 0 24 24\"\n",
              "     width=\"24px\">\n",
              "    <g>\n",
              "        <path d=\"M19 3H5c-1.1 0-2 .9-2 2v14c0 1.1.9 2 2 2h14c1.1 0 2-.9 2-2V5c0-1.1-.9-2-2-2zM9 17H7v-7h2v7zm4 0h-2V7h2v10zm4 0h-2v-4h2v4z\"/>\n",
              "    </g>\n",
              "</svg>\n",
              "  </button>\n",
              "\n",
              "<style>\n",
              "  .colab-df-quickchart {\n",
              "      --bg-color: #E8F0FE;\n",
              "      --fill-color: #1967D2;\n",
              "      --hover-bg-color: #E2EBFA;\n",
              "      --hover-fill-color: #174EA6;\n",
              "      --disabled-fill-color: #AAA;\n",
              "      --disabled-bg-color: #DDD;\n",
              "  }\n",
              "\n",
              "  [theme=dark] .colab-df-quickchart {\n",
              "      --bg-color: #3B4455;\n",
              "      --fill-color: #D2E3FC;\n",
              "      --hover-bg-color: #434B5C;\n",
              "      --hover-fill-color: #FFFFFF;\n",
              "      --disabled-bg-color: #3B4455;\n",
              "      --disabled-fill-color: #666;\n",
              "  }\n",
              "\n",
              "  .colab-df-quickchart {\n",
              "    background-color: var(--bg-color);\n",
              "    border: none;\n",
              "    border-radius: 50%;\n",
              "    cursor: pointer;\n",
              "    display: none;\n",
              "    fill: var(--fill-color);\n",
              "    height: 32px;\n",
              "    padding: 0;\n",
              "    width: 32px;\n",
              "  }\n",
              "\n",
              "  .colab-df-quickchart:hover {\n",
              "    background-color: var(--hover-bg-color);\n",
              "    box-shadow: 0 1px 2px rgba(60, 64, 67, 0.3), 0 1px 3px 1px rgba(60, 64, 67, 0.15);\n",
              "    fill: var(--button-hover-fill-color);\n",
              "  }\n",
              "\n",
              "  .colab-df-quickchart-complete:disabled,\n",
              "  .colab-df-quickchart-complete:disabled:hover {\n",
              "    background-color: var(--disabled-bg-color);\n",
              "    fill: var(--disabled-fill-color);\n",
              "    box-shadow: none;\n",
              "  }\n",
              "\n",
              "  .colab-df-spinner {\n",
              "    border: 2px solid var(--fill-color);\n",
              "    border-color: transparent;\n",
              "    border-bottom-color: var(--fill-color);\n",
              "    animation:\n",
              "      spin 1s steps(1) infinite;\n",
              "  }\n",
              "\n",
              "  @keyframes spin {\n",
              "    0% {\n",
              "      border-color: transparent;\n",
              "      border-bottom-color: var(--fill-color);\n",
              "      border-left-color: var(--fill-color);\n",
              "    }\n",
              "    20% {\n",
              "      border-color: transparent;\n",
              "      border-left-color: var(--fill-color);\n",
              "      border-top-color: var(--fill-color);\n",
              "    }\n",
              "    30% {\n",
              "      border-color: transparent;\n",
              "      border-left-color: var(--fill-color);\n",
              "      border-top-color: var(--fill-color);\n",
              "      border-right-color: var(--fill-color);\n",
              "    }\n",
              "    40% {\n",
              "      border-color: transparent;\n",
              "      border-right-color: var(--fill-color);\n",
              "      border-top-color: var(--fill-color);\n",
              "    }\n",
              "    60% {\n",
              "      border-color: transparent;\n",
              "      border-right-color: var(--fill-color);\n",
              "    }\n",
              "    80% {\n",
              "      border-color: transparent;\n",
              "      border-right-color: var(--fill-color);\n",
              "      border-bottom-color: var(--fill-color);\n",
              "    }\n",
              "    90% {\n",
              "      border-color: transparent;\n",
              "      border-bottom-color: var(--fill-color);\n",
              "    }\n",
              "  }\n",
              "</style>\n",
              "\n",
              "  <script>\n",
              "    async function quickchart(key) {\n",
              "      const quickchartButtonEl =\n",
              "        document.querySelector('#' + key + ' button');\n",
              "      quickchartButtonEl.disabled = true;  // To prevent multiple clicks.\n",
              "      quickchartButtonEl.classList.add('colab-df-spinner');\n",
              "      try {\n",
              "        const charts = await google.colab.kernel.invokeFunction(\n",
              "            'suggestCharts', [key], {});\n",
              "      } catch (error) {\n",
              "        console.error('Error during call to suggestCharts:', error);\n",
              "      }\n",
              "      quickchartButtonEl.classList.remove('colab-df-spinner');\n",
              "      quickchartButtonEl.classList.add('colab-df-quickchart-complete');\n",
              "    }\n",
              "    (() => {\n",
              "      let quickchartButtonEl =\n",
              "        document.querySelector('#df-b79e9a3a-f4ea-4c19-b17d-a257ff4b526c button');\n",
              "      quickchartButtonEl.style.display =\n",
              "        google.colab.kernel.accessAllowed ? 'block' : 'none';\n",
              "    })();\n",
              "  </script>\n",
              "</div>\n",
              "\n",
              "    </div>\n",
              "  </div>\n"
            ]
          },
          "metadata": {},
          "execution_count": 48
        }
      ]
    },
    {
      "cell_type": "code",
      "metadata": {
        "id": "0R-_7PH5D0_E",
        "colab": {
          "base_uri": "https://localhost:8080/"
        },
        "outputId": "29e37713-ca47-49e1-8752-7c71b73f74ce"
      },
      "source": [
        "dataset.info() # retorna as informações sobre um DataFrame"
      ],
      "execution_count": null,
      "outputs": [
        {
          "output_type": "stream",
          "name": "stdout",
          "text": [
            "<class 'pandas.core.frame.DataFrame'>\n",
            "RangeIndex: 258 entries, 0 to 257\n",
            "Data columns (total 7 columns):\n",
            " #   Column         Non-Null Count  Dtype  \n",
            "---  ------         --------------  -----  \n",
            " 0   Nome           258 non-null    object \n",
            " 1   Motor          258 non-null    object \n",
            " 2   Ano            258 non-null    int64  \n",
            " 3   Quilometragem  197 non-null    float64\n",
            " 4   Zero_km        258 non-null    bool   \n",
            " 5   Acessórios     258 non-null    object \n",
            " 6   Valor          258 non-null    float64\n",
            "dtypes: bool(1), float64(2), int64(1), object(3)\n",
            "memory usage: 12.5+ KB\n"
          ]
        }
      ]
    },
    {
      "cell_type": "markdown",
      "metadata": {
        "id": "htjoBLwiD0_F"
      },
      "source": [
        "# <font color=green> 2. TRABALHANDO COM TUPLAS\n",
        "---"
      ]
    },
    {
      "cell_type": "markdown",
      "metadata": {
        "id": "MZH5_QnYD0_G"
      },
      "source": [
        "# 2.1 Criando tuplas\n",
        "\n",
        "Tuplas são sequências imutáveis que são utilizadas para armazenar coleções de itens, geralmente heterogêneos. Podem ser construídas de várias formas:\n",
        "```\n",
        "- Utilizando um par de parênteses: ( )\n",
        "- Utilizando uma vírgula à direita: x,\n",
        "- Utilizando um par de parênteses com itens separados por vírgulas: ( x, y, z )\n",
        "- Utilizando: tuple() ou tuple(iterador)\n",
        "```"
      ]
    },
    {
      "cell_type": "code",
      "metadata": {
        "id": "xzcs9fzeD0_G",
        "colab": {
          "base_uri": "https://localhost:8080/"
        },
        "outputId": "a17635ff-a1cf-4de8-eb25-5fa1f921ac4e"
      },
      "source": [
        "()     # tupla vazia"
      ],
      "execution_count": null,
      "outputs": [
        {
          "output_type": "execute_result",
          "data": {
            "text/plain": [
              "()"
            ]
          },
          "metadata": {},
          "execution_count": 66
        }
      ]
    },
    {
      "cell_type": "code",
      "metadata": {
        "id": "qJq7a2qTD0_I",
        "colab": {
          "base_uri": "https://localhost:8080/"
        },
        "outputId": "3c367227-4df9-4c44-de5c-2ca1f5294cc4"
      },
      "source": [
        "1, 2, 3        # cria tupla com esses valores, uma vez que, o python interpreta assim essa sequência de valores"
      ],
      "execution_count": null,
      "outputs": [
        {
          "output_type": "execute_result",
          "data": {
            "text/plain": [
              "(1, 2, 3)"
            ]
          },
          "metadata": {},
          "execution_count": 57
        }
      ]
    },
    {
      "cell_type": "code",
      "metadata": {
        "id": "sg7LdvptD0_J",
        "colab": {
          "base_uri": "https://localhost:8080/"
        },
        "outputId": "ebf3d348-bf29-453e-f574-401004ae5255"
      },
      "source": [
        "nome = 'Passat'\n",
        "valor = 153000\n",
        "(nome, valor)"
      ],
      "execution_count": null,
      "outputs": [
        {
          "output_type": "execute_result",
          "data": {
            "text/plain": [
              "('Passat', 153000)"
            ]
          },
          "metadata": {},
          "execution_count": 58
        }
      ]
    },
    {
      "cell_type": "code",
      "metadata": {
        "id": "XSSMebXjD0_K",
        "colab": {
          "base_uri": "https://localhost:8080/"
        },
        "outputId": "9738219f-b927-4136-b616-88c0acf2ec31"
      },
      "source": [
        "nomes_carros = tuple(['Jetta Variant', 'Passat', 'Crossfox', 'DS5'])\n",
        "nomes_carros"
      ],
      "execution_count": null,
      "outputs": [
        {
          "output_type": "execute_result",
          "data": {
            "text/plain": [
              "('Jetta Variant', 'Passat', 'Crossfox', 'DS5')"
            ]
          },
          "metadata": {},
          "execution_count": 62
        }
      ]
    },
    {
      "cell_type": "code",
      "metadata": {
        "id": "dpkdzrzRD0_M",
        "colab": {
          "base_uri": "https://localhost:8080/"
        },
        "outputId": "8da3aa4c-a467-45c5-995e-9c4e9490eb3b"
      },
      "source": [
        "type(nomes_carros)"
      ],
      "execution_count": null,
      "outputs": [
        {
          "output_type": "execute_result",
          "data": {
            "text/plain": [
              "tuple"
            ]
          },
          "metadata": {},
          "execution_count": 63
        }
      ]
    },
    {
      "cell_type": "markdown",
      "metadata": {
        "id": "iKUY2DOUD0_N"
      },
      "source": [
        "# 2.2 Seleções em tuplas"
      ]
    },
    {
      "cell_type": "code",
      "metadata": {
        "id": "hBEeAM7_D0_N",
        "colab": {
          "base_uri": "https://localhost:8080/"
        },
        "outputId": "f3d3e834-8631-4f67-f410-d1e9310a628d"
      },
      "source": [
        "nomes_carros = ('Jetta Variant', 'Passat', 'Crossfox', 'DS5')\n",
        "nomes_carros"
      ],
      "execution_count": null,
      "outputs": [
        {
          "output_type": "execute_result",
          "data": {
            "text/plain": [
              "('Jetta Variant', 'Passat', 'Crossfox', 'DS5')"
            ]
          },
          "metadata": {},
          "execution_count": 72
        }
      ]
    },
    {
      "cell_type": "code",
      "metadata": {
        "id": "-mx_1E_tD0_P",
        "colab": {
          "base_uri": "https://localhost:8080/",
          "height": 35
        },
        "outputId": "fec94ab5-537f-4bb3-daf3-c5253c75df74"
      },
      "source": [
        "nomes_carros[0]"
      ],
      "execution_count": null,
      "outputs": [
        {
          "output_type": "execute_result",
          "data": {
            "text/plain": [
              "'Jetta Variant'"
            ],
            "application/vnd.google.colaboratory.intrinsic+json": {
              "type": "string"
            }
          },
          "metadata": {},
          "execution_count": 69
        }
      ]
    },
    {
      "cell_type": "code",
      "metadata": {
        "id": "LMhyqnFID0_Q",
        "colab": {
          "base_uri": "https://localhost:8080/",
          "height": 35
        },
        "outputId": "05716435-7690-426f-dd62-b2acdebfb13a"
      },
      "source": [
        "nomes_carros[1]"
      ],
      "execution_count": null,
      "outputs": [
        {
          "output_type": "execute_result",
          "data": {
            "text/plain": [
              "'Passat'"
            ],
            "application/vnd.google.colaboratory.intrinsic+json": {
              "type": "string"
            }
          },
          "metadata": {},
          "execution_count": 70
        }
      ]
    },
    {
      "cell_type": "code",
      "metadata": {
        "id": "6btHff4BD0_T",
        "colab": {
          "base_uri": "https://localhost:8080/",
          "height": 35
        },
        "outputId": "d0cc8d1a-b02d-47dc-de70-cae2b257cb01"
      },
      "source": [
        "nomes_carros[-1]"
      ],
      "execution_count": null,
      "outputs": [
        {
          "output_type": "execute_result",
          "data": {
            "text/plain": [
              "'DS5'"
            ],
            "application/vnd.google.colaboratory.intrinsic+json": {
              "type": "string"
            }
          },
          "metadata": {},
          "execution_count": 78
        }
      ]
    },
    {
      "cell_type": "code",
      "source": [
        "nomes_carros[:-1]"
      ],
      "metadata": {
        "colab": {
          "base_uri": "https://localhost:8080/"
        },
        "id": "SMeBRx1yuv-8",
        "outputId": "8937086f-90d6-4afc-8862-8046f860aa3a"
      },
      "execution_count": null,
      "outputs": [
        {
          "output_type": "execute_result",
          "data": {
            "text/plain": [
              "('Jetta Variant', 'Passat', 'Crossfox')"
            ]
          },
          "metadata": {},
          "execution_count": 77
        }
      ]
    },
    {
      "cell_type": "code",
      "metadata": {
        "id": "K_Dc12xBD0_U",
        "colab": {
          "base_uri": "https://localhost:8080/"
        },
        "outputId": "d3264a0b-c894-4494-e5bf-c4216347bc61"
      },
      "source": [
        "nomes_carros[1:3]"
      ],
      "execution_count": null,
      "outputs": [
        {
          "output_type": "execute_result",
          "data": {
            "text/plain": [
              "('Passat', 'Crossfox')"
            ]
          },
          "metadata": {},
          "execution_count": 82
        }
      ]
    },
    {
      "cell_type": "code",
      "source": [
        "nomes_carros[-4:-1]"
      ],
      "metadata": {
        "colab": {
          "base_uri": "https://localhost:8080/"
        },
        "id": "dLU-G8j8vCll",
        "outputId": "594270a4-46fe-488d-a00f-828032bb6db9"
      },
      "execution_count": null,
      "outputs": [
        {
          "output_type": "execute_result",
          "data": {
            "text/plain": [
              "('Jetta Variant', 'Passat', 'Crossfox')"
            ]
          },
          "metadata": {},
          "execution_count": 84
        }
      ]
    },
    {
      "cell_type": "code",
      "metadata": {
        "id": "zvrWYkkeD0_W",
        "colab": {
          "base_uri": "https://localhost:8080/"
        },
        "outputId": "9b84d3ef-5205-4dc1-f104-a24ecf613643"
      },
      "source": [
        "nomes_carros = ('Jetta Variant', 'Passat', 'Crossfox', 'DS5', ('Fusca', 'Gol', 'C4'))\n",
        "nomes_carros"
      ],
      "execution_count": null,
      "outputs": [
        {
          "output_type": "execute_result",
          "data": {
            "text/plain": [
              "('Jetta Variant', 'Passat', 'Crossfox', 'DS5', ('Fusca', 'Gol', 'C4'))"
            ]
          },
          "metadata": {},
          "execution_count": 86
        }
      ]
    },
    {
      "cell_type": "code",
      "metadata": {
        "id": "Dw7tbM2ED0_Z",
        "colab": {
          "base_uri": "https://localhost:8080/"
        },
        "outputId": "1a9274da-9126-4a1b-c76c-cfd2d40100d5"
      },
      "source": [
        "nomes_carros[-1]"
      ],
      "execution_count": null,
      "outputs": [
        {
          "output_type": "execute_result",
          "data": {
            "text/plain": [
              "('Fusca', 'Gol', 'C4')"
            ]
          },
          "metadata": {},
          "execution_count": 87
        }
      ]
    },
    {
      "cell_type": "code",
      "metadata": {
        "id": "SAMD3BtXD0_b",
        "colab": {
          "base_uri": "https://localhost:8080/",
          "height": 35
        },
        "outputId": "20ae7a99-cf6a-472c-bf92-287c07bde927"
      },
      "source": [
        "nomes_carros[-1][1]    # acessa o elemento de index 1 dentro do elemento de posição 4/-1"
      ],
      "execution_count": null,
      "outputs": [
        {
          "output_type": "execute_result",
          "data": {
            "text/plain": [
              "'Gol'"
            ],
            "application/vnd.google.colaboratory.intrinsic+json": {
              "type": "string"
            }
          },
          "metadata": {},
          "execution_count": 89
        }
      ]
    },
    {
      "cell_type": "markdown",
      "metadata": {
        "id": "KLMxh4-0D0_c"
      },
      "source": [
        "# 2.3 Iterando em tuplas"
      ]
    },
    {
      "cell_type": "code",
      "metadata": {
        "id": "K53elKsYD0_c",
        "colab": {
          "base_uri": "https://localhost:8080/"
        },
        "outputId": "7bd29e09-36c6-4cc0-9f12-e7568491bf4e"
      },
      "source": [
        "nomes_carros = ('Jetta Variant', 'Passat', 'Crossfox', 'DS5')\n",
        "nomes_carros"
      ],
      "execution_count": null,
      "outputs": [
        {
          "output_type": "execute_result",
          "data": {
            "text/plain": [
              "('Jetta Variant', 'Passat', 'Crossfox', 'DS5')"
            ]
          },
          "metadata": {},
          "execution_count": 91
        }
      ]
    },
    {
      "cell_type": "code",
      "metadata": {
        "id": "igZhZ5zdD0_d",
        "colab": {
          "base_uri": "https://localhost:8080/"
        },
        "outputId": "a8fe4749-f7bd-4b90-9347-624198d8cc21"
      },
      "source": [
        "for item in nomes_carros:\n",
        "  print(item)"
      ],
      "execution_count": null,
      "outputs": [
        {
          "output_type": "stream",
          "name": "stdout",
          "text": [
            "Jetta Variant\n",
            "Passat\n",
            "Crossfox\n",
            "DS5\n"
          ]
        }
      ]
    },
    {
      "cell_type": "markdown",
      "metadata": {
        "id": "AOBjxBk8D0_f"
      },
      "source": [
        "### Desempacotamento de tuplas\n",
        "\n",
        "Com o desempacotamento de tuplas é possível distribuir valores de uma tupla e atribuir cada uma a variáveis em específico.\n",
        "\n",
        "É bastante útil quando temos funções que retornam tuplas e queremos utilizar esses valores para coisas diferentes no código."
      ]
    },
    {
      "cell_type": "code",
      "metadata": {
        "id": "UoEFnumhD0_f",
        "colab": {
          "base_uri": "https://localhost:8080/"
        },
        "outputId": "97bdf9f6-9e02-499b-ef6d-b0b4aa321fd4"
      },
      "source": [
        "nomes_carros = ('Jetta Variant', 'Passat', 'Crossfox', 'DS5')\n",
        "nomes_carros"
      ],
      "execution_count": null,
      "outputs": [
        {
          "output_type": "execute_result",
          "data": {
            "text/plain": [
              "('Jetta Variant', 'Passat', 'Crossfox', 'DS5')"
            ]
          },
          "metadata": {},
          "execution_count": 94
        }
      ]
    },
    {
      "cell_type": "code",
      "metadata": {
        "id": "AaCLcNYTD0_g"
      },
      "source": [
        "carro_1, carro_2, carro_3, carro_4 = nomes_carros"
      ],
      "execution_count": null,
      "outputs": []
    },
    {
      "cell_type": "code",
      "metadata": {
        "id": "TA71S9egD0_h",
        "colab": {
          "base_uri": "https://localhost:8080/",
          "height": 35
        },
        "outputId": "064b6b03-606f-4d53-adde-eef15ad7439a"
      },
      "source": [
        "carro_1"
      ],
      "execution_count": null,
      "outputs": [
        {
          "output_type": "execute_result",
          "data": {
            "text/plain": [
              "'Jetta Variant'"
            ],
            "application/vnd.google.colaboratory.intrinsic+json": {
              "type": "string"
            }
          },
          "metadata": {},
          "execution_count": 96
        }
      ]
    },
    {
      "cell_type": "code",
      "metadata": {
        "id": "CHoJ034MD0_i",
        "colab": {
          "base_uri": "https://localhost:8080/",
          "height": 35
        },
        "outputId": "37bc8838-979a-41e8-a7c8-37fa6b21c775"
      },
      "source": [
        "carro_2"
      ],
      "execution_count": null,
      "outputs": [
        {
          "output_type": "execute_result",
          "data": {
            "text/plain": [
              "'Passat'"
            ],
            "application/vnd.google.colaboratory.intrinsic+json": {
              "type": "string"
            }
          },
          "metadata": {},
          "execution_count": 97
        }
      ]
    },
    {
      "cell_type": "code",
      "metadata": {
        "id": "oxJrOuCSD0_j",
        "colab": {
          "base_uri": "https://localhost:8080/",
          "height": 35
        },
        "outputId": "7915a3c2-68fb-4678-c5ac-bfff7d002e9d"
      },
      "source": [
        "carro_3"
      ],
      "execution_count": null,
      "outputs": [
        {
          "output_type": "execute_result",
          "data": {
            "text/plain": [
              "'Crossfox'"
            ],
            "application/vnd.google.colaboratory.intrinsic+json": {
              "type": "string"
            }
          },
          "metadata": {},
          "execution_count": 98
        }
      ]
    },
    {
      "cell_type": "code",
      "metadata": {
        "id": "BbR9sB4BD0_k",
        "colab": {
          "base_uri": "https://localhost:8080/",
          "height": 35
        },
        "outputId": "6be931aa-d50b-4313-d689-f8b419843635"
      },
      "source": [
        "carro_4"
      ],
      "execution_count": null,
      "outputs": [
        {
          "output_type": "execute_result",
          "data": {
            "text/plain": [
              "'DS5'"
            ],
            "application/vnd.google.colaboratory.intrinsic+json": {
              "type": "string"
            }
          },
          "metadata": {},
          "execution_count": 99
        }
      ]
    },
    {
      "cell_type": "code",
      "metadata": {
        "id": "aZvokrjPD0_m"
      },
      "source": [
        "_, A, _, B = nomes_carros    # usando _ podemos ignorar o valor assim pegando apenas o que for necessário do retorno"
      ],
      "execution_count": null,
      "outputs": []
    },
    {
      "cell_type": "code",
      "metadata": {
        "id": "wZXDbVg0D0_o",
        "colab": {
          "base_uri": "https://localhost:8080/",
          "height": 35
        },
        "outputId": "b4eb74e8-a470-4695-f043-c02eebb00328"
      },
      "source": [
        "A"
      ],
      "execution_count": null,
      "outputs": [
        {
          "output_type": "execute_result",
          "data": {
            "text/plain": [
              "'Passat'"
            ],
            "application/vnd.google.colaboratory.intrinsic+json": {
              "type": "string"
            }
          },
          "metadata": {},
          "execution_count": 103
        }
      ]
    },
    {
      "cell_type": "code",
      "metadata": {
        "id": "aWgDMBXiD0_p",
        "colab": {
          "base_uri": "https://localhost:8080/",
          "height": 35
        },
        "outputId": "7aa2b11c-40be-44bc-eb12-3cfbe0224d57"
      },
      "source": [
        "B"
      ],
      "execution_count": null,
      "outputs": [
        {
          "output_type": "execute_result",
          "data": {
            "text/plain": [
              "'DS5'"
            ],
            "application/vnd.google.colaboratory.intrinsic+json": {
              "type": "string"
            }
          },
          "metadata": {},
          "execution_count": 104
        }
      ]
    },
    {
      "cell_type": "code",
      "metadata": {
        "id": "OdpgNh-ND0_q"
      },
      "source": [
        "_, C, *_ = nomes_carros   # guarda apenas o segundo valor em C e ignora o restante da tupla"
      ],
      "execution_count": null,
      "outputs": []
    },
    {
      "cell_type": "code",
      "metadata": {
        "id": "upVYFnMdD0_r",
        "colab": {
          "base_uri": "https://localhost:8080/",
          "height": 35
        },
        "outputId": "543b1f40-cebc-435f-c52b-d3d1d72be647"
      },
      "source": [
        "C"
      ],
      "execution_count": null,
      "outputs": [
        {
          "output_type": "execute_result",
          "data": {
            "text/plain": [
              "'Passat'"
            ],
            "application/vnd.google.colaboratory.intrinsic+json": {
              "type": "string"
            }
          },
          "metadata": {},
          "execution_count": 109
        }
      ]
    },
    {
      "cell_type": "markdown",
      "metadata": {
        "id": "u85Aou8WD0_s"
      },
      "source": [
        "## *zip()*    <-  Cria iterador com tuplas\n",
        "\n",
        "https://docs.python.org/3.6/library/functions.html#zip"
      ]
    },
    {
      "cell_type": "code",
      "metadata": {
        "id": "PaC2oXGED0_t",
        "colab": {
          "base_uri": "https://localhost:8080/"
        },
        "outputId": "f4fb3a9b-7cbb-418e-e6fe-33f4140b4d1a"
      },
      "source": [
        "carros = ['Jetta Variant', 'Passat', 'Crossfox', 'DS5']\n",
        "carros"
      ],
      "execution_count": null,
      "outputs": [
        {
          "output_type": "execute_result",
          "data": {
            "text/plain": [
              "['Jetta Variant', 'Passat', 'Crossfox', 'DS5']"
            ]
          },
          "metadata": {},
          "execution_count": 110
        }
      ]
    },
    {
      "cell_type": "code",
      "metadata": {
        "id": "_02O1VnHD0_u",
        "colab": {
          "base_uri": "https://localhost:8080/"
        },
        "outputId": "2f4dccb1-c628-45ef-ccee-09c73722d09c"
      },
      "source": [
        "valores = [88078.64, 106161.94, 72832.16, 124549.07]\n",
        "valores"
      ],
      "execution_count": null,
      "outputs": [
        {
          "output_type": "execute_result",
          "data": {
            "text/plain": [
              "[88078.64, 106161.94, 72832.16, 124549.07]"
            ]
          },
          "metadata": {},
          "execution_count": 111
        }
      ]
    },
    {
      "cell_type": "code",
      "metadata": {
        "id": "roQK5nYRD0_v",
        "colab": {
          "base_uri": "https://localhost:8080/"
        },
        "outputId": "41e5bd21-70e7-4bd9-ce2b-73307f9fe4fc"
      },
      "source": [
        "list(zip(carros, valores))"
      ],
      "execution_count": null,
      "outputs": [
        {
          "output_type": "execute_result",
          "data": {
            "text/plain": [
              "[('Jetta Variant', 88078.64),\n",
              " ('Passat', 106161.94),\n",
              " ('Crossfox', 72832.16),\n",
              " ('DS5', 124549.07)]"
            ]
          },
          "metadata": {},
          "execution_count": 115
        }
      ]
    },
    {
      "cell_type": "code",
      "metadata": {
        "id": "_WRxIRHrD0_w",
        "colab": {
          "base_uri": "https://localhost:8080/"
        },
        "outputId": "88a8ec7e-9eab-43d9-b448-079acd8512c3"
      },
      "source": [
        "\"\"\"\n",
        "      associa as posições dos elementos iterando as duas listas ao mesmo tempo e criando uma tupla para os elementos associados por sua indexação\n",
        "                                    zip(carros,valores)  ->  (carros[0],valores[0]), (carros[1],valores[1]), (carros[2],valores[2]), (carros[3],valores[3])\n",
        "\"\"\"\n",
        "for item in zip(carros, valores):\n",
        "  print(item)"
      ],
      "execution_count": null,
      "outputs": [
        {
          "output_type": "stream",
          "name": "stdout",
          "text": [
            "('Jetta Variant', 88078.64)\n",
            "('Passat', 106161.94)\n",
            "('Crossfox', 72832.16)\n",
            "('DS5', 124549.07)\n"
          ]
        }
      ]
    },
    {
      "cell_type": "code",
      "metadata": {
        "id": "2zIuhIILD0_x",
        "colab": {
          "base_uri": "https://localhost:8080/"
        },
        "outputId": "052dd017-fa68-4c91-a89e-fa95ef59ec80"
      },
      "source": [
        "for carro, valor in zip(carros, valores): # desempacotamento dos valores nas tuplas dentro do metodo zip\n",
        "  print(carro, valor)"
      ],
      "execution_count": null,
      "outputs": [
        {
          "output_type": "stream",
          "name": "stdout",
          "text": [
            "Jetta Variant 88078.64\n",
            "Passat 106161.94\n",
            "Crossfox 72832.16\n",
            "DS5 124549.07\n"
          ]
        }
      ]
    },
    {
      "cell_type": "code",
      "metadata": {
        "id": "ZJaL62IpD0_y",
        "colab": {
          "base_uri": "https://localhost:8080/"
        },
        "outputId": "e05f2e3b-1c8e-41f8-df15-2b3c473eeb32"
      },
      "source": [
        "for carro, valor in zip(carros, valores):\n",
        "  if (valor > 100000):   # printa todos carros com valor maior que 100.000\n",
        "    print(carro)"
      ],
      "execution_count": null,
      "outputs": [
        {
          "output_type": "stream",
          "name": "stdout",
          "text": [
            "Passat\n",
            "DS5\n"
          ]
        }
      ]
    },
    {
      "cell_type": "markdown",
      "source": [
        "# ATIVIDADES"
      ],
      "metadata": {
        "id": "R5hhp89PFA5q"
      }
    },
    {
      "cell_type": "markdown",
      "source": [
        "# 1) Para responder esta questão, considere a tupla:\n"
      ],
      "metadata": {
        "id": "8LayEa7cFH2m"
      }
    },
    {
      "cell_type": "code",
      "metadata": {
        "id": "YIFVkWT6D0_1"
      },
      "source": [
        "carros = (\n",
        "    (\n",
        "        'Jetta Variant',\n",
        "        'Motor 4.0 Turbo',\n",
        "        2003,\n",
        "        False,\n",
        "        ('Rodas de liga', 'Travas elétricas', 'Piloto automático')\n",
        "    ),\n",
        "    (\n",
        "        'Passat',\n",
        "        'Motor Diesel',\n",
        "        1991,\n",
        "        True,\n",
        "        ('Central multimídia', 'Teto panorâmico', 'Freios ABS')\n",
        "    )\n",
        ")"
      ],
      "execution_count": null,
      "outputs": []
    },
    {
      "cell_type": "markdown",
      "source": [
        " O que precisamos é iterar na tupla carros e imprimir todos os acessórios que aparecem. O resultado desejado é o seguinte:\n",
        "- Rodas de liga\n",
        "- Travas elétricas\n",
        "- Piloto automático\n",
        "- Central multimídia\n",
        "- Teto panorâmico\n",
        "- Freios ABS"
      ],
      "metadata": {
        "id": "sabndrICFnAh"
      }
    },
    {
      "cell_type": "code",
      "metadata": {
        "id": "2LHiBn3-D0_2",
        "colab": {
          "base_uri": "https://localhost:8080/"
        },
        "outputId": "4e61c45b-60d4-4e87-e842-8a8952d4fa75"
      },
      "source": [
        "for carro in carros:\n",
        "  for acessorios in carro[-1]:\n",
        "    print(acessorios)"
      ],
      "execution_count": null,
      "outputs": [
        {
          "output_type": "stream",
          "name": "stdout",
          "text": [
            "Rodas de liga\n",
            "Travas elétricas\n",
            "Piloto automático\n",
            "Central multimídia\n",
            "Teto panorâmico\n",
            "Freios ABS\n"
          ]
        }
      ]
    },
    {
      "cell_type": "markdown",
      "source": [
        "# 2) Considerando as duas listas abaixo:"
      ],
      "metadata": {
        "id": "MKSj7n98H0ki"
      }
    },
    {
      "cell_type": "code",
      "source": [
        "nomes = ['Passat', 'Crossfox', 'DS5', 'C4', 'Jetta']\n",
        "\n",
        "kms = [15000, 12000, 32000, 8000, 50000]"
      ],
      "metadata": {
        "id": "tzaXU3d-IvFU"
      },
      "execution_count": null,
      "outputs": []
    },
    {
      "cell_type": "markdown",
      "source": [
        "E utilizando a função zip e desempacotamento de tuplas, faça o código que possibilita a impressão dos nomes dos veículos com quilometragem abaixo de 20.000 km."
      ],
      "metadata": {
        "id": "OOqaAX-RIstt"
      }
    },
    {
      "cell_type": "code",
      "source": [
        "for nome_carro, quilometro in zip(nomes,kms):\n",
        "  if quilometro < 20000:\n",
        "    print(nome_carro)"
      ],
      "metadata": {
        "colab": {
          "base_uri": "https://localhost:8080/"
        },
        "id": "QUr4KbXtH3VK",
        "outputId": "b3096215-7a0e-4086-d3b1-4cbb5c3bc046"
      },
      "execution_count": null,
      "outputs": [
        {
          "output_type": "stream",
          "name": "stdout",
          "text": [
            "Passat\n",
            "Crossfox\n",
            "C4\n"
          ]
        }
      ]
    },
    {
      "cell_type": "markdown",
      "metadata": {
        "id": "xo76nR8rD0_0"
      },
      "source": [
        "# <font color=green> 3. TRABALHANDO COM DICIONÁRIOS\n",
        "---"
      ]
    },
    {
      "cell_type": "markdown",
      "metadata": {
        "id": "wfWzOuztD0_0"
      },
      "source": [
        "# 3.1 Criando dicionários\n",
        "\n",
        "Listas são coleções sequenciais, isto é, os itens destas sequências estão ordenados e utilizam índices (números inteiros) para acessar os valores.\n",
        "\n",
        "Os dicionários são coleções um pouco diferentes. São estruturas de dados que representam um tipo de mapeamento. Mapeamentos são coleções de associações entre pares de valores onde o primeiro elemento do par é conhecido como chave (*key*) e o segundo como valor (*value*).\n",
        "\n",
        "```\n",
        "dicionario = {key_1: value_1, key_2: value_2, ..., key_n: value_n}\n",
        "```\n",
        "\n",
        "https://docs.python.org/3.6/library/stdtypes.html#typesmapping"
      ]
    },
    {
      "cell_type": "code",
      "metadata": {
        "id": "SuPcV9v6D0_0",
        "colab": {
          "base_uri": "https://localhost:8080/"
        },
        "outputId": "696885c2-1e44-4122-cfbd-268d102de3fb"
      },
      "source": [
        "carros = ['Jetta Variant', 'Passat', 'Crossfox']\n",
        "carros"
      ],
      "execution_count": null,
      "outputs": [
        {
          "output_type": "execute_result",
          "data": {
            "text/plain": [
              "['Jetta Variant', 'Passat', 'Crossfox']"
            ]
          },
          "metadata": {},
          "execution_count": 135
        }
      ]
    },
    {
      "cell_type": "code",
      "metadata": {
        "id": "YxLAx_sqD0_4",
        "colab": {
          "base_uri": "https://localhost:8080/"
        },
        "outputId": "551f17cb-6949-4488-8157-1a38e0d56841"
      },
      "source": [
        "valores = [88078.64, 106161.94, 72832.16]\n",
        "valores"
      ],
      "execution_count": null,
      "outputs": [
        {
          "output_type": "execute_result",
          "data": {
            "text/plain": [
              "[88078.64, 106161.94, 72832.16]"
            ]
          },
          "metadata": {},
          "execution_count": 136
        }
      ]
    },
    {
      "cell_type": "code",
      "metadata": {
        "id": "WITNWExID0_7",
        "colab": {
          "base_uri": "https://localhost:8080/"
        },
        "outputId": "64573532-016a-4a12-a78a-1d6372babe4e"
      },
      "source": [
        "carros.index('Passat')"
      ],
      "execution_count": null,
      "outputs": [
        {
          "output_type": "execute_result",
          "data": {
            "text/plain": [
              "1"
            ]
          },
          "metadata": {},
          "execution_count": 139
        }
      ]
    },
    {
      "cell_type": "code",
      "metadata": {
        "id": "bHNqoDbTD0_8",
        "colab": {
          "base_uri": "https://localhost:8080/"
        },
        "outputId": "47baf2f6-1bc4-4b3a-9fef-4db0645fc424"
      },
      "source": [
        "valores[carros.index('Passat')]"
      ],
      "execution_count": null,
      "outputs": [
        {
          "output_type": "execute_result",
          "data": {
            "text/plain": [
              "106161.94"
            ]
          },
          "metadata": {},
          "execution_count": 142
        }
      ]
    },
    {
      "cell_type": "code",
      "metadata": {
        "id": "4FyQgmcAD0_9",
        "colab": {
          "base_uri": "https://localhost:8080/"
        },
        "outputId": "0ee8f400-6d73-47fd-fe9e-883fd5efb7fe"
      },
      "source": [
        "#         = { 'Chave1': valor1,               Chave2': valor2,         Chave3': valor3    }\n",
        "dados = {'Jetta Variant': 88078.64, 'Passat': 106161.94, 'Crossfox': 72832.16}\n",
        "dados"
      ],
      "execution_count": null,
      "outputs": [
        {
          "output_type": "execute_result",
          "data": {
            "text/plain": [
              "{'Jetta Variant': 88078.64, 'Passat': 106161.94, 'Crossfox': 72832.16}"
            ]
          },
          "metadata": {},
          "execution_count": 144
        }
      ]
    },
    {
      "cell_type": "code",
      "source": [
        "type(dados)"
      ],
      "metadata": {
        "colab": {
          "base_uri": "https://localhost:8080/"
        },
        "id": "kP-bMCRTgTYY",
        "outputId": "7015dda8-a6a0-437e-e5e3-689b906fef75"
      },
      "execution_count": null,
      "outputs": [
        {
          "output_type": "execute_result",
          "data": {
            "text/plain": [
              "dict"
            ]
          },
          "metadata": {},
          "execution_count": 146
        }
      ]
    },
    {
      "cell_type": "code",
      "source": [
        "# em um dicionario os valores são acessados por suas chaves\n",
        "dados['Passat']"
      ],
      "metadata": {
        "colab": {
          "base_uri": "https://localhost:8080/"
        },
        "id": "_GbShzfGgee4",
        "outputId": "d88d0b90-ef89-4c8b-e397-99ca30506873"
      },
      "execution_count": null,
      "outputs": [
        {
          "output_type": "execute_result",
          "data": {
            "text/plain": [
              "106161.94"
            ]
          },
          "metadata": {},
          "execution_count": 149
        }
      ]
    },
    {
      "cell_type": "markdown",
      "metadata": {
        "id": "PQg-MLkGD0_-"
      },
      "source": [
        "### Criando dicionários com *zip()*"
      ]
    },
    {
      "cell_type": "code",
      "metadata": {
        "id": "iB4Q_gbND0__",
        "colab": {
          "base_uri": "https://localhost:8080/"
        },
        "outputId": "1de82cd8-96a1-4122-df87-dabb448f6685"
      },
      "source": [
        "list(zip(carros, valores))"
      ],
      "execution_count": null,
      "outputs": [
        {
          "output_type": "execute_result",
          "data": {
            "text/plain": [
              "[('Jetta Variant', 88078.64), ('Passat', 106161.94), ('Crossfox', 72832.16)]"
            ]
          },
          "metadata": {},
          "execution_count": 150
        }
      ]
    },
    {
      "cell_type": "code",
      "metadata": {
        "id": "mIgZqdKKD1AA",
        "colab": {
          "base_uri": "https://localhost:8080/"
        },
        "outputId": "c305a797-4a88-4940-bb32-f327c65c8433"
      },
      "source": [
        "dados = dict(zip(carros, valores))\n",
        "dados"
      ],
      "execution_count": null,
      "outputs": [
        {
          "output_type": "execute_result",
          "data": {
            "text/plain": [
              "{'Jetta Variant': 88078.64, 'Passat': 106161.94, 'Crossfox': 72832.16}"
            ]
          },
          "metadata": {},
          "execution_count": 152
        }
      ]
    },
    {
      "cell_type": "markdown",
      "metadata": {
        "id": "KYeRqavFD1AD"
      },
      "source": [
        "# 3.2 Operações com dicionários"
      ]
    },
    {
      "cell_type": "code",
      "source": [
        "dados = {'Jetta Variant': 88078.64, 'Passat': 106161.94, 'Crossfox': 72832.16}\n",
        "dados"
      ],
      "metadata": {
        "colab": {
          "base_uri": "https://localhost:8080/"
        },
        "id": "LdIh7Y_IlcRR",
        "outputId": "e71512d8-2f61-4dcc-a4c8-58b9cc0bbd41"
      },
      "execution_count": null,
      "outputs": [
        {
          "output_type": "execute_result",
          "data": {
            "text/plain": [
              "{'Jetta Variant': 88078.64, 'Passat': 106161.94, 'Crossfox': 72832.16}"
            ]
          },
          "metadata": {},
          "execution_count": 1
        }
      ]
    },
    {
      "cell_type": "markdown",
      "metadata": {
        "id": "KzmWbEltD1AD"
      },
      "source": [
        "## *dict[ key ]*\n",
        "\n",
        "Retorna o valor correspondente à chave (*key*) no dicionário."
      ]
    },
    {
      "cell_type": "code",
      "metadata": {
        "id": "hFFDz6wKD1AD",
        "colab": {
          "base_uri": "https://localhost:8080/"
        },
        "outputId": "1a1b628c-f50e-4b47-fb63-d08fd6f9c10d"
      },
      "source": [
        "dados['Passat']"
      ],
      "execution_count": null,
      "outputs": [
        {
          "output_type": "execute_result",
          "data": {
            "text/plain": [
              "106161.94"
            ]
          },
          "metadata": {},
          "execution_count": 2
        }
      ]
    },
    {
      "cell_type": "markdown",
      "metadata": {
        "id": "SWlE6VTBD1AE"
      },
      "source": [
        "## *key in dict*\n",
        "\n",
        "Retorna **True** se a chave (*key*) for encontrada no dicionário."
      ]
    },
    {
      "cell_type": "code",
      "metadata": {
        "id": "Iy88SxBtD1AE",
        "colab": {
          "base_uri": "https://localhost:8080/"
        },
        "outputId": "1ef667a7-f810-4739-c97c-4326bd830bfa"
      },
      "source": [
        "'Passat' in dados"
      ],
      "execution_count": null,
      "outputs": [
        {
          "output_type": "execute_result",
          "data": {
            "text/plain": [
              "True"
            ]
          },
          "metadata": {},
          "execution_count": 3
        }
      ]
    },
    {
      "cell_type": "code",
      "metadata": {
        "id": "Oma56NkAD1AF",
        "colab": {
          "base_uri": "https://localhost:8080/"
        },
        "outputId": "fe18605b-1c2f-448f-dcf2-ae781d607a1e"
      },
      "source": [
        "'Fusca Rebaixado' in dados"
      ],
      "execution_count": null,
      "outputs": [
        {
          "output_type": "execute_result",
          "data": {
            "text/plain": [
              "False"
            ]
          },
          "metadata": {},
          "execution_count": 4
        }
      ]
    },
    {
      "cell_type": "code",
      "metadata": {
        "id": "yS2U-_8gD1AG",
        "colab": {
          "base_uri": "https://localhost:8080/"
        },
        "outputId": "8e2fb9c7-6fdb-4782-d8b1-a720804b09e0"
      },
      "source": [
        "'Fusca Rebaixado' not in dados"
      ],
      "execution_count": null,
      "outputs": [
        {
          "output_type": "execute_result",
          "data": {
            "text/plain": [
              "True"
            ]
          },
          "metadata": {},
          "execution_count": 6
        }
      ]
    },
    {
      "cell_type": "markdown",
      "metadata": {
        "id": "oWbWyDd0D1AI"
      },
      "source": [
        "## *len(dict)*\n",
        "\n",
        "Retorna o número de itens do dicionário. Ou seja, quantidade de pares chave-valor presentes no dicionário."
      ]
    },
    {
      "cell_type": "code",
      "metadata": {
        "id": "k08YkCc1D1AJ",
        "colab": {
          "base_uri": "https://localhost:8080/"
        },
        "outputId": "5c951058-59c2-4e0c-dea6-2300b9e97db6"
      },
      "source": [
        "len(dados)"
      ],
      "execution_count": null,
      "outputs": [
        {
          "output_type": "execute_result",
          "data": {
            "text/plain": [
              "3"
            ]
          },
          "metadata": {},
          "execution_count": 7
        }
      ]
    },
    {
      "cell_type": "markdown",
      "metadata": {
        "id": "yYNqIHJBD1AK"
      },
      "source": [
        "## *dict[ key ] = value*\n",
        "\n",
        "Inclui um item ao dicionário."
      ]
    },
    {
      "cell_type": "code",
      "metadata": {
        "id": "5jj3i52bD1AK",
        "colab": {
          "base_uri": "https://localhost:8080/"
        },
        "outputId": "d6342505-d0b2-4763-a16f-20a90f5c4d3f"
      },
      "source": [
        "dados['DS5'] = 124549.07\n",
        "'DS5' in dados"
      ],
      "execution_count": null,
      "outputs": [
        {
          "output_type": "execute_result",
          "data": {
            "text/plain": [
              "True"
            ]
          },
          "metadata": {},
          "execution_count": 13
        }
      ]
    },
    {
      "cell_type": "code",
      "metadata": {
        "id": "y6rso5hLD1AL",
        "colab": {
          "base_uri": "https://localhost:8080/"
        },
        "outputId": "ed288806-58d0-480c-8e85-88f9f17fff75"
      },
      "source": [
        "dados"
      ],
      "execution_count": null,
      "outputs": [
        {
          "output_type": "execute_result",
          "data": {
            "text/plain": [
              "{'Jetta Variant': 88078.64,\n",
              " 'Passat': 106161.94,\n",
              " 'Crossfox': 72832.16,\n",
              " 'DS5': 124549.07}"
            ]
          },
          "metadata": {},
          "execution_count": 17
        }
      ]
    },
    {
      "cell_type": "markdown",
      "metadata": {
        "id": "_z0JySuqD1AL"
      },
      "source": [
        "## *del dict[ key ]*\n",
        "\n",
        "Remove o item de chave (*key*) do dicionário."
      ]
    },
    {
      "cell_type": "code",
      "metadata": {
        "id": "PPfh6sfID1AM",
        "colab": {
          "base_uri": "https://localhost:8080/"
        },
        "outputId": "d3ec6f2e-3e9e-4af5-df36-953bce0efb29"
      },
      "source": [
        "dados"
      ],
      "execution_count": null,
      "outputs": [
        {
          "output_type": "execute_result",
          "data": {
            "text/plain": [
              "{'Jetta Variant': 88078.64,\n",
              " 'Crossfox': 72832.16,\n",
              " 'DS5': 124549.07,\n",
              " 'Passat': 106161.94}"
            ]
          },
          "metadata": {},
          "execution_count": 22
        }
      ]
    },
    {
      "cell_type": "code",
      "metadata": {
        "id": "BtjGpXtGD1AN",
        "colab": {
          "base_uri": "https://localhost:8080/"
        },
        "outputId": "27c86631-f790-4f9f-d8cf-bb7d03fe04f1"
      },
      "source": [
        "del dados['Passat']\n",
        "dados"
      ],
      "execution_count": null,
      "outputs": [
        {
          "output_type": "execute_result",
          "data": {
            "text/plain": [
              "{'Jetta Variant': 88078.64, 'Crossfox': 72832.16, 'DS5': 124549.07}"
            ]
          },
          "metadata": {},
          "execution_count": 23
        }
      ]
    },
    {
      "cell_type": "markdown",
      "source": [
        "# ATIVIDADE"
      ],
      "metadata": {
        "id": "THlKwLapnbcM"
      }
    },
    {
      "cell_type": "markdown",
      "source": [
        "## 1) Utilize o dicionário dados para responder a questão:"
      ],
      "metadata": {
        "id": "R8OTjji7ngTA"
      }
    },
    {
      "cell_type": "code",
      "source": [
        "dados = {\n",
        "    'Passat': {\n",
        "        'ano': 2012,\n",
        "        'km': 50000,\n",
        "        'valor': 75000,\n",
        "        'acessorios': ['Airbag', 'ABS']\n",
        "    },\n",
        "    'Crossfox': {\n",
        "        'ano': 2015,\n",
        "        'km': 35000,\n",
        "        'valor': 25000\n",
        "    }\n",
        "}"
      ],
      "metadata": {
        "id": "iZ8s5Tc2nm7m"
      },
      "execution_count": null,
      "outputs": []
    },
    {
      "cell_type": "markdown",
      "source": [
        "- 1) Testar se a chave acessorios existe no dicionário de informações do carro Crossfox (Resposta: False)\n",
        "\n",
        "- 2) Testar se a chave acessorios existe no dicionário de informações do carro Passat (Resposta: True)\n",
        "\n",
        "- 3) Obter o valor do carro Crossfox (Resposta: 25000)\n",
        "\n",
        "- 4) Acessar o último acessório do carro Passat (Resposta: 'ABS')"
      ],
      "metadata": {
        "id": "uLOHL69vnpxO"
      }
    },
    {
      "cell_type": "code",
      "source": [
        "'acessorios' in dados['Crossfox']"
      ],
      "metadata": {
        "colab": {
          "base_uri": "https://localhost:8080/"
        },
        "id": "G1GGKQBgnpLr",
        "outputId": "d0d7f631-3987-4dbd-c9ce-c7a5e69475f2"
      },
      "execution_count": null,
      "outputs": [
        {
          "output_type": "execute_result",
          "data": {
            "text/plain": [
              "False"
            ]
          },
          "metadata": {},
          "execution_count": 72
        }
      ]
    },
    {
      "cell_type": "code",
      "source": [
        "'acessorios' in dados['Passat']"
      ],
      "metadata": {
        "colab": {
          "base_uri": "https://localhost:8080/"
        },
        "id": "RayUHcwWojH4",
        "outputId": "62e0df72-6baf-4648-d3ad-66ab1c99a4ac"
      },
      "execution_count": null,
      "outputs": [
        {
          "output_type": "execute_result",
          "data": {
            "text/plain": [
              "True"
            ]
          },
          "metadata": {},
          "execution_count": 73
        }
      ]
    },
    {
      "cell_type": "code",
      "source": [
        "dados['Crossfox']['valor']"
      ],
      "metadata": {
        "colab": {
          "base_uri": "https://localhost:8080/"
        },
        "id": "RgAXKGsWpJs4",
        "outputId": "7f965ab0-921e-4d98-e93a-646f6ba49e15"
      },
      "execution_count": null,
      "outputs": [
        {
          "output_type": "execute_result",
          "data": {
            "text/plain": [
              "25000"
            ]
          },
          "metadata": {},
          "execution_count": 74
        }
      ]
    },
    {
      "cell_type": "code",
      "source": [
        "dados['Passat']['acessorios'][-1]"
      ],
      "metadata": {
        "colab": {
          "base_uri": "https://localhost:8080/"
        },
        "id": "sGoJeCg-peY9",
        "outputId": "f1611931-205e-4558-ead0-02623eb7dacf"
      },
      "execution_count": null,
      "outputs": [
        {
          "output_type": "execute_result",
          "data": {
            "text/plain": [
              "'ABS'"
            ],
            "application/vnd.google.colaboratory.intrinsic+json": {
              "type": "string"
            }
          },
          "metadata": {},
          "execution_count": 75
        }
      ]
    },
    {
      "cell_type": "markdown",
      "metadata": {
        "id": "FodJVx5sD1AP"
      },
      "source": [
        "# 3.3 Métodos de dicionários"
      ]
    },
    {
      "cell_type": "markdown",
      "metadata": {
        "id": "7pqdPOkYD1AP"
      },
      "source": [
        "## *dict.update()*\n",
        "\n",
        "Atualiza o dicionário."
      ]
    },
    {
      "cell_type": "code",
      "metadata": {
        "id": "DUySYxKQD1AQ",
        "colab": {
          "base_uri": "https://localhost:8080/"
        },
        "outputId": "9772c846-b763-499e-ea47-6d462296492d"
      },
      "source": [
        "dados"
      ],
      "execution_count": null,
      "outputs": [
        {
          "output_type": "execute_result",
          "data": {
            "text/plain": [
              "{'Crossfox': 72832.16, 'DS5': 124549.07, 'Jetta Variant': 88078.64}"
            ]
          },
          "metadata": {},
          "execution_count": 86
        }
      ]
    },
    {
      "cell_type": "code",
      "metadata": {
        "id": "DLsqp71cD1AR",
        "colab": {
          "base_uri": "https://localhost:8080/"
        },
        "outputId": "d075dbca-d151-4f21-a1e4-89952176e38b"
      },
      "source": [
        "dados.update({'Passat': 106161.94})    # atualiza dicionario incluindo esse par chave-valor se ele não estiver no dicionario\n",
        "dados"
      ],
      "execution_count": null,
      "outputs": [
        {
          "output_type": "execute_result",
          "data": {
            "text/plain": [
              "{'Crossfox': 72832.16,\n",
              " 'DS5': 124549.07,\n",
              " 'Jetta Variant': 88078.64,\n",
              " 'Passat': 106161.94}"
            ]
          },
          "metadata": {},
          "execution_count": 87
        }
      ]
    },
    {
      "cell_type": "code",
      "source": [
        "dados.update({'Passat': 106161.95, 'Fusca': 150000})  # se o par chave-valor já existir no dicionário você pode também atualizar o valor\n",
        "dados"
      ],
      "metadata": {
        "colab": {
          "base_uri": "https://localhost:8080/"
        },
        "id": "QQEsoWi8yJbb",
        "outputId": "ff64de38-dc8e-4eae-ad38-5a852dec8ff7"
      },
      "execution_count": null,
      "outputs": [
        {
          "output_type": "execute_result",
          "data": {
            "text/plain": [
              "{'Crossfox': 72832.16,\n",
              " 'DS5': 124549.07,\n",
              " 'Jetta Variant': 88078.64,\n",
              " 'Passat': 106161.95,\n",
              " 'Fusca': 150000}"
            ]
          },
          "metadata": {},
          "execution_count": 89
        }
      ]
    },
    {
      "cell_type": "markdown",
      "metadata": {
        "id": "JLs5c0DeD1AR"
      },
      "source": [
        "## *dict.copy()*\n",
        "\n",
        "Cria uma cópia do dicionário."
      ]
    },
    {
      "cell_type": "code",
      "metadata": {
        "id": "X9F7OB3eD1AS"
      },
      "source": [
        "dadosCopy = dados.copy()"
      ],
      "execution_count": null,
      "outputs": []
    },
    {
      "cell_type": "code",
      "metadata": {
        "id": "v0rL0bveD1AS",
        "colab": {
          "base_uri": "https://localhost:8080/"
        },
        "outputId": "5b25b19b-e46a-4569-f2bf-b6be8e25af40"
      },
      "source": [
        "dadosCopy"
      ],
      "execution_count": null,
      "outputs": [
        {
          "output_type": "execute_result",
          "data": {
            "text/plain": [
              "{'Crossfox': 72832.16,\n",
              " 'DS5': 124549.07,\n",
              " 'Jetta Variant': 88078.64,\n",
              " 'Passat': 106161.95,\n",
              " 'Fusca': 150000}"
            ]
          },
          "metadata": {},
          "execution_count": 124
        }
      ]
    },
    {
      "cell_type": "code",
      "metadata": {
        "id": "M-abRGGrD1AT",
        "colab": {
          "base_uri": "https://localhost:8080/"
        },
        "outputId": "732dded9-29f7-4114-d660-8c393781e326"
      },
      "source": [
        "del dadosCopy['Fusca']\n",
        "dadosCopy"
      ],
      "execution_count": null,
      "outputs": [
        {
          "output_type": "execute_result",
          "data": {
            "text/plain": [
              "{'Crossfox': 72832.16,\n",
              " 'DS5': 124549.07,\n",
              " 'Jetta Variant': 88078.64,\n",
              " 'Passat': 106161.95}"
            ]
          },
          "metadata": {},
          "execution_count": 131
        }
      ]
    },
    {
      "cell_type": "code",
      "metadata": {
        "id": "ETBD0TkND1AU",
        "colab": {
          "base_uri": "https://localhost:8080/"
        },
        "outputId": "82079d21-0384-4280-8997-c4badde68e61"
      },
      "source": [
        "dados"
      ],
      "execution_count": null,
      "outputs": [
        {
          "output_type": "execute_result",
          "data": {
            "text/plain": [
              "{'Crossfox': 72832.16,\n",
              " 'DS5': 124549.07,\n",
              " 'Jetta Variant': 88078.64,\n",
              " 'Passat': 106161.95,\n",
              " 'Fusca': 150000}"
            ]
          },
          "metadata": {},
          "execution_count": 126
        }
      ]
    },
    {
      "cell_type": "markdown",
      "metadata": {
        "id": "mNODkmHCD1AV"
      },
      "source": [
        "## *dict.pop(key[, default ])*\n",
        "\n",
        "Se a chave for encontrada no dicionário, o item é removido e seu valor é retornado. Caso contrário, o valor especificado como *default* é retornado. Se o valor *default* não for fornecido e a chave não for encontrada no dicionário um erro será gerado."
      ]
    },
    {
      "cell_type": "code",
      "metadata": {
        "id": "_4QEPwScD1AW",
        "colab": {
          "base_uri": "https://localhost:8080/"
        },
        "outputId": "e945c393-a0d5-4b9b-d7c0-7e636124e14c"
      },
      "source": [
        "dadosCopy"
      ],
      "execution_count": null,
      "outputs": [
        {
          "output_type": "execute_result",
          "data": {
            "text/plain": [
              "{'Crossfox': 72832.16,\n",
              " 'DS5': 124549.07,\n",
              " 'Jetta Variant': 88078.64,\n",
              " 'Passat': 106161.95}"
            ]
          },
          "metadata": {},
          "execution_count": 132
        }
      ]
    },
    {
      "cell_type": "code",
      "metadata": {
        "id": "Hjh0MuymD1AX",
        "colab": {
          "base_uri": "https://localhost:8080/"
        },
        "outputId": "e4619725-0b3a-4105-a768-e9a54fa90d1d"
      },
      "source": [
        "dadosCopy.pop('Passat')      # se a chave for encontrada no dicionário a função retorna o valor correspondente a essa chave e exclui o par chave-valor"
      ],
      "execution_count": null,
      "outputs": [
        {
          "output_type": "execute_result",
          "data": {
            "text/plain": [
              "106161.95"
            ]
          },
          "metadata": {},
          "execution_count": 133
        }
      ]
    },
    {
      "cell_type": "code",
      "metadata": {
        "id": "f51rKjkuD1AX",
        "colab": {
          "base_uri": "https://localhost:8080/"
        },
        "outputId": "d765f07b-fabe-4987-b533-eb7cc9d5fae0"
      },
      "source": [
        "dadosCopy"
      ],
      "execution_count": null,
      "outputs": [
        {
          "output_type": "execute_result",
          "data": {
            "text/plain": [
              "{'Crossfox': 72832.16, 'DS5': 124549.07, 'Jetta Variant': 88078.64}"
            ]
          },
          "metadata": {},
          "execution_count": 134
        }
      ]
    },
    {
      "cell_type": "code",
      "metadata": {
        "id": "Ah4sZ7axD1AZ"
      },
      "source": [
        "# dadosCopy.pop('Passat')"
      ],
      "execution_count": null,
      "outputs": []
    },
    {
      "cell_type": "code",
      "metadata": {
        "id": "SJATRY8RD1Aa",
        "colab": {
          "base_uri": "https://localhost:8080/"
        },
        "outputId": "5ce972c8-8e26-42f9-b7be-cfe1d0389a1a"
      },
      "source": [
        "dadosCopy.pop('Passat', 'Chave não encontrada')\n",
        "#          dict.pop('key',  'default_value')  default_value: esse parâmetro nos permite fazer um tratamento de erro caso a chave não for encontrada no dicionário"
      ],
      "execution_count": null,
      "outputs": [
        {
          "output_type": "execute_result",
          "data": {
            "text/plain": [
              "'Chave não encontrada'"
            ],
            "application/vnd.google.colaboratory.intrinsic+json": {
              "type": "string"
            }
          },
          "metadata": {},
          "execution_count": 135
        }
      ]
    },
    {
      "cell_type": "code",
      "metadata": {
        "id": "V36wHdzmD1Ab",
        "colab": {
          "base_uri": "https://localhost:8080/"
        },
        "outputId": "4c520b7a-5863-461a-9eee-8b0fdd612996"
      },
      "source": [
        "dadosCopy.pop('DS5', 'Chave não encontrada')"
      ],
      "execution_count": null,
      "outputs": [
        {
          "output_type": "execute_result",
          "data": {
            "text/plain": [
              "124549.07"
            ]
          },
          "metadata": {},
          "execution_count": 136
        }
      ]
    },
    {
      "cell_type": "code",
      "metadata": {
        "id": "LJ0lQIrdD1Ac",
        "colab": {
          "base_uri": "https://localhost:8080/"
        },
        "outputId": "d846b98a-5e92-43ae-ba9b-925d2efea40a"
      },
      "source": [
        "dadosCopy"
      ],
      "execution_count": null,
      "outputs": [
        {
          "output_type": "execute_result",
          "data": {
            "text/plain": [
              "{'Crossfox': 72832.16, 'Jetta Variant': 88078.64}"
            ]
          },
          "metadata": {},
          "execution_count": 137
        }
      ]
    },
    {
      "cell_type": "markdown",
      "metadata": {
        "id": "Q5J0R7d3D1Ag"
      },
      "source": [
        "## *dict.clear()*\n",
        "\n",
        "Remove todos os itens do dicionário."
      ]
    },
    {
      "cell_type": "code",
      "metadata": {
        "id": "AvkP_8mND1Ag"
      },
      "source": [
        "dadosCopy.clear()"
      ],
      "execution_count": null,
      "outputs": []
    },
    {
      "cell_type": "code",
      "metadata": {
        "id": "S69pMYboD1Ah",
        "colab": {
          "base_uri": "https://localhost:8080/"
        },
        "outputId": "ccf73b48-816d-4a52-d719-4178e042c5f0"
      },
      "source": [
        "dadosCopy"
      ],
      "execution_count": null,
      "outputs": [
        {
          "output_type": "execute_result",
          "data": {
            "text/plain": [
              "{}"
            ]
          },
          "metadata": {},
          "execution_count": 139
        }
      ]
    },
    {
      "cell_type": "markdown",
      "metadata": {
        "id": "QhoSRfPsD1Ai"
      },
      "source": [
        "# 3.4 Iterando em dicionários"
      ]
    },
    {
      "cell_type": "code",
      "source": [
        "dados = {'Crossfox': 72832.16, 'DS5': 124549.07,  'Fusca': 150000,  'Jetta Variant': 88078.64,  'Passat': 106161.95}\n",
        "dados"
      ],
      "metadata": {
        "colab": {
          "base_uri": "https://localhost:8080/"
        },
        "id": "M232IbRV6tDR",
        "outputId": "77d58a47-a7c4-48f3-faae-4f5464a6728e"
      },
      "execution_count": null,
      "outputs": [
        {
          "output_type": "execute_result",
          "data": {
            "text/plain": [
              "{'Crossfox': 72832.16,\n",
              " 'DS5': 124549.07,\n",
              " 'Fusca': 150000,\n",
              " 'Jetta Variant': 88078.64,\n",
              " 'Passat': 106161.95}"
            ]
          },
          "metadata": {},
          "execution_count": 140
        }
      ]
    },
    {
      "cell_type": "markdown",
      "metadata": {
        "id": "E-agaqakD1Ai"
      },
      "source": [
        "## *dict.keys()*\n",
        "\n",
        "Retorna uma lista contendo as chaves (*keys*) do dicionário."
      ]
    },
    {
      "cell_type": "code",
      "metadata": {
        "id": "qFADEYmBD1Aj",
        "colab": {
          "base_uri": "https://localhost:8080/"
        },
        "outputId": "c0b08645-169e-4903-cd99-ca5c205009a9"
      },
      "source": [
        "dados.keys()"
      ],
      "execution_count": null,
      "outputs": [
        {
          "output_type": "execute_result",
          "data": {
            "text/plain": [
              "dict_keys(['Crossfox', 'DS5', 'Fusca', 'Jetta Variant', 'Passat'])"
            ]
          },
          "metadata": {},
          "execution_count": 141
        }
      ]
    },
    {
      "cell_type": "code",
      "source": [
        "for key in dados.keys():    # acessa todos os itens na lista criada na função .keys() e para cada item na lista libera a saída com seu nome\n",
        "  print(key)"
      ],
      "metadata": {
        "colab": {
          "base_uri": "https://localhost:8080/"
        },
        "id": "-iAu65N37ws5",
        "outputId": "e97d0045-8c1e-4b0a-ffa0-8244432a2996"
      },
      "execution_count": null,
      "outputs": [
        {
          "output_type": "stream",
          "name": "stdout",
          "text": [
            "Crossfox\n",
            "DS5\n",
            "Fusca\n",
            "Jetta Variant\n",
            "Passat\n"
          ]
        }
      ]
    },
    {
      "cell_type": "code",
      "metadata": {
        "id": "niwh9AgDD1Aj",
        "colab": {
          "base_uri": "https://localhost:8080/"
        },
        "outputId": "51906113-46b8-4c4b-afef-0532e30e2d77"
      },
      "source": [
        "for key in dados.keys(): # acessa a lista de chaves ['Crossfox', 'DS5', 'Fusca', 'Jetta Variant', 'Passat'] e para cada nome de carro printa o seu respectivo valor em dados acessando pela chave/nome\n",
        "  print(dados[key])"
      ],
      "execution_count": null,
      "outputs": [
        {
          "output_type": "stream",
          "name": "stdout",
          "text": [
            "72832.16\n",
            "124549.07\n",
            "150000\n",
            "88078.64\n",
            "106161.95\n"
          ]
        }
      ]
    },
    {
      "cell_type": "markdown",
      "metadata": {
        "id": "qFj6Cc7dD1Ak"
      },
      "source": [
        "## *dict.values()*\n",
        "\n",
        "Retorna uma lista com todos os valores (*values*) do dicionário."
      ]
    },
    {
      "cell_type": "code",
      "metadata": {
        "id": "nfpLxrQVD1Al",
        "colab": {
          "base_uri": "https://localhost:8080/"
        },
        "outputId": "f13ab629-d1f3-43c4-d089-cc54aa66f260"
      },
      "source": [
        "dados.values() # retorna apenas os valores do dicionário"
      ],
      "execution_count": null,
      "outputs": [
        {
          "output_type": "execute_result",
          "data": {
            "text/plain": [
              "dict_values([72832.16, 124549.07, 150000, 88078.64, 106161.95])"
            ]
          },
          "metadata": {},
          "execution_count": 157
        }
      ]
    },
    {
      "cell_type": "markdown",
      "metadata": {
        "id": "-NGRwX0AD1Al"
      },
      "source": [
        "## *dict.items()*\n",
        "\n",
        "Retorna uma lista contendo uma tupla para cada par chave-valor (*key-value*) do dicionário."
      ]
    },
    {
      "cell_type": "code",
      "metadata": {
        "id": "Q2I9_6YvD1Am",
        "colab": {
          "base_uri": "https://localhost:8080/"
        },
        "outputId": "d43ea70a-c747-43a2-bfab-9fce5273450c"
      },
      "source": [
        "dados.items()"
      ],
      "execution_count": null,
      "outputs": [
        {
          "output_type": "execute_result",
          "data": {
            "text/plain": [
              "dict_items([('Crossfox', 72832.16), ('DS5', 124549.07), ('Fusca', 150000), ('Jetta Variant', 88078.64), ('Passat', 106161.95)])"
            ]
          },
          "metadata": {},
          "execution_count": 158
        }
      ]
    },
    {
      "cell_type": "code",
      "metadata": {
        "id": "0j41ZqgQD1Am",
        "colab": {
          "base_uri": "https://localhost:8080/"
        },
        "outputId": "62d6d68d-7a38-4477-9e37-f252daba315d"
      },
      "source": [
        "for item in dados.items():\n",
        "  print(item)"
      ],
      "execution_count": null,
      "outputs": [
        {
          "output_type": "stream",
          "name": "stdout",
          "text": [
            "('Crossfox', 72832.16)\n",
            "('DS5', 124549.07)\n",
            "('Fusca', 150000)\n",
            "('Jetta Variant', 88078.64)\n",
            "('Passat', 106161.95)\n"
          ]
        }
      ]
    },
    {
      "cell_type": "code",
      "metadata": {
        "id": "OVY9rIwFD1An",
        "colab": {
          "base_uri": "https://localhost:8080/"
        },
        "outputId": "0df382d2-de48-4a6c-e99b-1ade84d217cd"
      },
      "source": [
        "for key, value in dados.items():   # pegando as tuplas formadas pelos pares no dicionário e fazendo desempacotamento de tuplas\n",
        "  print(key, value)"
      ],
      "execution_count": null,
      "outputs": [
        {
          "output_type": "stream",
          "name": "stdout",
          "text": [
            "Crossfox 72832.16\n",
            "DS5 124549.07\n",
            "Fusca 150000\n",
            "Jetta Variant 88078.64\n",
            "Passat 106161.95\n"
          ]
        }
      ]
    },
    {
      "cell_type": "code",
      "metadata": {
        "id": "ma2Ol8vcD1Ap",
        "colab": {
          "base_uri": "https://localhost:8080/"
        },
        "outputId": "e1982e52-dee8-4208-ed17-847e9606e6f3"
      },
      "source": [
        "for key, value in dados.items():\n",
        "  if(value > 100000):\n",
        "    print( key )"
      ],
      "execution_count": null,
      "outputs": [
        {
          "output_type": "stream",
          "name": "stdout",
          "text": [
            "DS5\n",
            "Fusca\n",
            "Passat\n"
          ]
        }
      ]
    },
    {
      "cell_type": "markdown",
      "source": [
        "# ATIVIDADE"
      ],
      "metadata": {
        "id": "kDgQYBGy-GC_"
      }
    },
    {
      "cell_type": "markdown",
      "source": [
        "## 1) Utilize o dicionário abaixo para responder esta atividade:"
      ],
      "metadata": {
        "id": "c7Nov-IE-JcL"
      }
    },
    {
      "cell_type": "code",
      "source": [
        "dados = {\n",
        "    'Crossfox': {'valor': 72000, 'ano': 2005},\n",
        "    'DS5': {'valor': 125000, 'ano': 2015},\n",
        "    'Fusca': {'valor': 150000, 'ano': 1976},\n",
        "    'Jetta': {'valor': 88000, 'ano': 2010},\n",
        "    'Passat': {'valor': 106000, 'ano': 1998}\n",
        "}"
      ],
      "metadata": {
        "id": "9171XPn1-NfV"
      },
      "execution_count": null,
      "outputs": []
    },
    {
      "cell_type": "markdown",
      "source": [
        " Crie o código que imprima somente os nomes dos veículos com ano de fabricação maior ou igual a 2000."
      ],
      "metadata": {
        "id": "A9sTo7Ri-R80"
      }
    },
    {
      "cell_type": "code",
      "source": [
        "for key, value in dados.items():\n",
        "  if(value['ano'] >= 2000):\n",
        "    print(key)"
      ],
      "metadata": {
        "colab": {
          "base_uri": "https://localhost:8080/"
        },
        "id": "lz3LcOf7-Xov",
        "outputId": "8aa3cddb-be8d-4a03-b351-8992663b97df"
      },
      "execution_count": null,
      "outputs": [
        {
          "output_type": "stream",
          "name": "stdout",
          "text": [
            "Crossfox\n",
            "DS5\n",
            "Jetta\n"
          ]
        }
      ]
    },
    {
      "cell_type": "markdown",
      "metadata": {
        "id": "-q3AlSg3D1Aq"
      },
      "source": [
        "# <font color=green> 4. FUNÇÕES E PACOTES\n",
        "---\n",
        "    \n",
        "Funções são unidades de código reutilizáveis que realizam uma tarefa específica, podem receber alguma entrada e também podem retornar alguma resultado."
      ]
    },
    {
      "cell_type": "markdown",
      "metadata": {
        "id": "5CfEcU58D1Aq"
      },
      "source": [
        "# 4.1 Built-in function\n",
        "\n",
        "A linguagem Python possui várias funções integradas que estão sempre acessíveis. Algumas já utilizamos em nosso treinamento: type(), print(), zip(), len(), set() etc.\n",
        "Essas Built-in functions são muito importantes pois podem nos ajudar a resolver problemas com menos código e de forma mais prática.\n",
        "\n",
        "https://docs.python.org/3.6/library/functions.html"
      ]
    },
    {
      "cell_type": "code",
      "metadata": {
        "id": "DP7cmY7xD1Aq",
        "colab": {
          "base_uri": "https://localhost:8080/"
        },
        "outputId": "4ef011a4-9189-4ddc-a3c2-27078f97edec"
      },
      "source": [
        "dados = {'Jetta Variant': 88078.64, 'Passat': 106161.94, 'Crossfox': 72832.16}\n",
        "dados"
      ],
      "execution_count": null,
      "outputs": [
        {
          "output_type": "execute_result",
          "data": {
            "text/plain": [
              "{'Jetta Variant': 88078.64, 'Passat': 106161.94, 'Crossfox': 72832.16}"
            ]
          },
          "metadata": {},
          "execution_count": 2
        }
      ]
    },
    {
      "cell_type": "code",
      "metadata": {
        "id": "5zAcGSCbD1Ar",
        "colab": {
          "base_uri": "https://localhost:8080/"
        },
        "outputId": "90ae5d92-2b6d-4de2-bb00-967f8f12813a"
      },
      "source": [
        "valores = []\n",
        "\n",
        "for valor in dados.values():\n",
        "  valores.append(valor)\n",
        "\n",
        "valores"
      ],
      "execution_count": null,
      "outputs": [
        {
          "output_type": "execute_result",
          "data": {
            "text/plain": [
              "[88078.64, 106161.94, 72832.16]"
            ]
          },
          "metadata": {},
          "execution_count": 19
        }
      ]
    },
    {
      "cell_type": "code",
      "metadata": {
        "id": "zG9_jU_1D1At",
        "colab": {
          "base_uri": "https://localhost:8080/"
        },
        "outputId": "65575dca-a54b-468e-d15d-c7c3cccb0e7f"
      },
      "source": [
        "soma = 0\n",
        "\n",
        "for valor in dados.values():\n",
        "  soma += valor\n",
        "\n",
        "soma"
      ],
      "execution_count": null,
      "outputs": [
        {
          "output_type": "execute_result",
          "data": {
            "text/plain": [
              "267072.74"
            ]
          },
          "metadata": {},
          "execution_count": 11
        }
      ]
    },
    {
      "cell_type": "code",
      "metadata": {
        "id": "jn0O3uXZD1Au",
        "colab": {
          "base_uri": "https://localhost:8080/"
        },
        "outputId": "59c6c8e1-a946-444b-e79f-bdbc1963f767"
      },
      "source": [
        "list(dados.values())"
      ],
      "execution_count": null,
      "outputs": [
        {
          "output_type": "execute_result",
          "data": {
            "text/plain": [
              "[88078.64, 106161.94, 72832.16]"
            ]
          },
          "metadata": {},
          "execution_count": 12
        }
      ]
    },
    {
      "cell_type": "code",
      "metadata": {
        "id": "lnUjKVnoD1Aw",
        "colab": {
          "base_uri": "https://localhost:8080/"
        },
        "outputId": "1a563100-2f64-4345-dff7-67ee12a0e3be"
      },
      "source": [
        "sum(dados.values())"
      ],
      "execution_count": null,
      "outputs": [
        {
          "output_type": "execute_result",
          "data": {
            "text/plain": [
              "267072.74"
            ]
          },
          "metadata": {},
          "execution_count": 13
        }
      ]
    },
    {
      "cell_type": "code",
      "metadata": {
        "scrolled": false,
        "id": "WdEuYXe2D1Ay",
        "colab": {
          "base_uri": "https://localhost:8080/"
        },
        "outputId": "b17c6198-6a5e-411f-8685-aa01f09f8b78"
      },
      "source": [
        "# na built-in function sum é possível definir um parâmetro que diz o valor inicial do somatório\n",
        "sum(dados.values(), start = 100000)"
      ],
      "execution_count": null,
      "outputs": [
        {
          "output_type": "execute_result",
          "data": {
            "text/plain": [
              "367072.74"
            ]
          },
          "metadata": {},
          "execution_count": 15
        }
      ]
    },
    {
      "cell_type": "code",
      "metadata": {
        "id": "hIA29O3tD1Az",
        "colab": {
          "base_uri": "https://localhost:8080/"
        },
        "outputId": "27ea2ec6-3749-4545-f1f7-d804272c6b3c"
      },
      "source": [
        "help(sum)"
      ],
      "execution_count": null,
      "outputs": [
        {
          "output_type": "stream",
          "name": "stdout",
          "text": [
            "Help on built-in function sum in module builtins:\n",
            "\n",
            "sum(iterable, /, start=0)\n",
            "    Return the sum of a 'start' value (default: 0) plus an iterable of numbers\n",
            "    \n",
            "    When the iterable is empty, return the start value.\n",
            "    This function is intended specifically for use with numeric values and may\n",
            "    reject non-numeric types.\n",
            "\n"
          ]
        }
      ]
    },
    {
      "cell_type": "markdown",
      "metadata": {
        "id": "6w62Sl5ZD1A0"
      },
      "source": [
        "# 4.2 Definindo funções sem e com parâmetros"
      ]
    },
    {
      "cell_type": "markdown",
      "metadata": {
        "id": "OADZiBP2D1A0"
      },
      "source": [
        "### Funções sem parâmetros\n",
        "\n",
        "#### Formato padrão\n",
        "\n",
        "```\n",
        "def <nome>():\n",
        "    <instruções>\n",
        "```"
      ]
    },
    {
      "cell_type": "code",
      "metadata": {
        "id": "uCkplEpQD1A0"
      },
      "source": [
        "def media():\n",
        "  valor = (1 + 2 + 3) / 3\n",
        "  print(valor)"
      ],
      "execution_count": 1,
      "outputs": []
    },
    {
      "cell_type": "code",
      "metadata": {
        "id": "fOCEGq5VD1A1",
        "colab": {
          "base_uri": "https://localhost:8080/"
        },
        "outputId": "7e6a3d40-cb53-464e-b61e-bd86ec9a0c71"
      },
      "source": [
        "media()"
      ],
      "execution_count": 2,
      "outputs": [
        {
          "output_type": "stream",
          "name": "stdout",
          "text": [
            "2.0\n"
          ]
        }
      ]
    },
    {
      "cell_type": "markdown",
      "metadata": {
        "id": "PwSlYSVAD1A2"
      },
      "source": [
        "### Funções com parâmetros\n",
        "\n",
        "#### Formato padrão\n",
        "\n",
        "```\n",
        "def <nome>(<param_1>, <param_2>, ..., <param_n>):\n",
        "    <instruções>\n",
        "```"
      ]
    },
    {
      "cell_type": "code",
      "metadata": {
        "id": "A3YnBUduD1A3"
      },
      "source": [
        "def media(num_1,num_2,num_3):\n",
        "  valor = (num_1 + num_2 + num_3) / 3\n",
        "  print(valor)"
      ],
      "execution_count": 6,
      "outputs": []
    },
    {
      "cell_type": "code",
      "metadata": {
        "id": "rGUZbRERD1A3",
        "colab": {
          "base_uri": "https://localhost:8080/"
        },
        "outputId": "60e8100f-2e0f-402d-933e-8ea592c2d041"
      },
      "source": [
        "media(2,3,10)"
      ],
      "execution_count": 8,
      "outputs": [
        {
          "output_type": "stream",
          "name": "stdout",
          "text": [
            "5.0\n"
          ]
        }
      ]
    },
    {
      "cell_type": "code",
      "metadata": {
        "id": "B9WDlRE7D1A5",
        "colab": {
          "base_uri": "https://localhost:8080/"
        },
        "outputId": "28ec2f4f-305b-456c-853a-bcf0570d942a"
      },
      "source": [
        "media(24,45,66)"
      ],
      "execution_count": 9,
      "outputs": [
        {
          "output_type": "stream",
          "name": "stdout",
          "text": [
            "45.0\n"
          ]
        }
      ]
    },
    {
      "cell_type": "code",
      "metadata": {
        "id": "1HAy8OK_D1A6"
      },
      "source": [
        "def media(lista):\n",
        "  valor = sum(lista) / len(lista)\n",
        "  print(valor)"
      ],
      "execution_count": 19,
      "outputs": []
    },
    {
      "cell_type": "code",
      "metadata": {
        "id": "_CDa4oOfD1A6",
        "colab": {
          "base_uri": "https://localhost:8080/"
        },
        "outputId": "04608bca-c13f-4223-c554-8be46df7d357"
      },
      "source": [
        "resultado = media([1,2,3,4,5,6,7,8,9])"
      ],
      "execution_count": 20,
      "outputs": [
        {
          "output_type": "stream",
          "name": "stdout",
          "text": [
            "5.0\n"
          ]
        }
      ]
    },
    {
      "cell_type": "code",
      "metadata": {
        "id": "xH-mxqYAD1A8"
      },
      "source": [
        "resultado   # para armazenar certos valores de funções devemos definir um retorno para a função"
      ],
      "execution_count": 23,
      "outputs": []
    },
    {
      "cell_type": "code",
      "metadata": {
        "id": "WXXC_UidD1A8",
        "colab": {
          "base_uri": "https://localhost:8080/"
        },
        "outputId": "bcfde4bd-69c2-4005-f024-7b6684ce07a9"
      },
      "source": [
        "type(resultado)"
      ],
      "execution_count": 24,
      "outputs": [
        {
          "output_type": "execute_result",
          "data": {
            "text/plain": [
              "NoneType"
            ]
          },
          "metadata": {},
          "execution_count": 24
        }
      ]
    },
    {
      "cell_type": "markdown",
      "source": [
        "## ATIVIDADE"
      ],
      "metadata": {
        "id": "fy09N2xt-g0v"
      }
    },
    {
      "cell_type": "markdown",
      "source": [
        "### 1) o cálculo da quilometragem média que um veículo rodou por ano. Não existe uma função pronta para o cálculo desta estatística em Python, e por isso precisamos escrever uma função que obtenha este valor.\n",
        "\n",
        "Considere o conjunto de informações abaixo para responder o problema:"
      ],
      "metadata": {
        "id": "IJB8fz5S-lQw"
      }
    },
    {
      "cell_type": "code",
      "source": [
        "dados = {\n",
        "    'Crossfox': {'km': 35000, 'ano': 2005},\n",
        "    'DS5': {'km': 17000, 'ano': 2015},\n",
        "    'Fusca': {'km': 130000, 'ano': 1979},\n",
        "    'Jetta': {'km': 56000, 'ano': 2011},\n",
        "    'Passat': {'km': 62000, 'ano': 1999}\n",
        "}"
      ],
      "metadata": {
        "id": "nv1JsyDn-tax"
      },
      "execution_count": 38,
      "outputs": []
    },
    {
      "cell_type": "markdown",
      "source": [
        "Considerando que o ano atual é '2019' faça uma função que receba como entrada os dados dos carros em formato de dicionário e o ano atual(2019)\n",
        "\n",
        "\n",
        "Saída esperada:\n",
        "- 2500.0\n",
        "- 4250.0\n",
        "- 3250.0\n",
        "- 7000.0\n",
        "- 3100.0"
      ],
      "metadata": {
        "id": "Txz0548v-sGS"
      }
    },
    {
      "cell_type": "code",
      "source": [
        "def km_rodado (dict, ano_atual):\n",
        "  for key, value in dados.items():\n",
        "    km_total = value['km'] / (ano_atual - value['ano'])\n",
        "    mensagem = (f'O carro {key} percorreu cerca de {km_total} Quilometros desde sua fabricação')\n",
        "    print(mensagem)\n",
        "\n",
        "km_rodado(dados, 2019)"
      ],
      "metadata": {
        "colab": {
          "base_uri": "https://localhost:8080/"
        },
        "id": "1Ep7wYUy9HAJ",
        "outputId": "c9f8d96b-58f3-411b-dd84-5bae495fb50e"
      },
      "execution_count": 39,
      "outputs": [
        {
          "output_type": "stream",
          "name": "stdout",
          "text": [
            "O carro Crossfox percorreu cerca de 2500.0 Quilometros desde sua fabricação\n",
            "O carro DS5 percorreu cerca de 4250.0 Quilometros desde sua fabricação\n",
            "O carro Fusca percorreu cerca de 3250.0 Quilometros desde sua fabricação\n",
            "O carro Jetta percorreu cerca de 7000.0 Quilometros desde sua fabricação\n",
            "O carro Passat percorreu cerca de 3100.0 Quilometros desde sua fabricação\n"
          ]
        }
      ]
    },
    {
      "cell_type": "markdown",
      "metadata": {
        "id": "8zNYrmFbD1A9"
      },
      "source": [
        "# 4.3 Definindo funções que retornam valores"
      ]
    },
    {
      "cell_type": "markdown",
      "metadata": {
        "id": "J44K-dMOD1A9"
      },
      "source": [
        "### Funções que retornam um valor\n",
        "\n",
        "#### Formato padrão\n",
        "\n",
        "```\n",
        "def <nome>(<param_1>, <param_2>, ..., <param_n>):\n",
        "    <instruções>\n",
        "    return <resultado>\n",
        "```"
      ]
    },
    {
      "cell_type": "code",
      "metadata": {
        "id": "-UG42RQJD1A9"
      },
      "source": [
        "def media(lista):\n",
        "  valor = sum(lista) / len(lista)\n",
        "  return valor      # definindo um retorno, na chamada da função você tem uma saída no output e também pode usar-la para armazenar em alguma variável"
      ],
      "execution_count": 45,
      "outputs": []
    },
    {
      "cell_type": "code",
      "metadata": {
        "id": "VJwdvoT5D1A-",
        "colab": {
          "base_uri": "https://localhost:8080/"
        },
        "outputId": "23d22c27-50e8-4170-f134-d41657337733"
      },
      "source": [
        "media([1,2,3,4,5])"
      ],
      "execution_count": 46,
      "outputs": [
        {
          "output_type": "execute_result",
          "data": {
            "text/plain": [
              "3.0"
            ]
          },
          "metadata": {},
          "execution_count": 46
        }
      ]
    },
    {
      "cell_type": "code",
      "metadata": {
        "id": "AgAeJkpND1A-",
        "colab": {
          "base_uri": "https://localhost:8080/"
        },
        "outputId": "fc8cb2aa-1c7d-4a15-e0d4-40bfa0a45195"
      },
      "source": [
        "resultado = media([1,2,3,4,5,6,7])\n",
        "resultado"
      ],
      "execution_count": 47,
      "outputs": [
        {
          "output_type": "execute_result",
          "data": {
            "text/plain": [
              "4.0"
            ]
          },
          "metadata": {},
          "execution_count": 47
        }
      ]
    },
    {
      "cell_type": "code",
      "metadata": {
        "id": "_r616TevD1A_",
        "colab": {
          "base_uri": "https://localhost:8080/"
        },
        "outputId": "769b3298-3b1a-4270-cfe7-bb260d01b5a0"
      },
      "source": [
        "type(resultado)"
      ],
      "execution_count": 48,
      "outputs": [
        {
          "output_type": "execute_result",
          "data": {
            "text/plain": [
              "float"
            ]
          },
          "metadata": {},
          "execution_count": 48
        }
      ]
    },
    {
      "cell_type": "markdown",
      "metadata": {
        "id": "MQaK8GV5D1BA"
      },
      "source": [
        "### Funções que retornam mais de um valor\n",
        "\n",
        "#### Formato padrão\n",
        "\n",
        "```\n",
        "def <nome>(<param_1>, <param_2>, ..., <param_n>):\n",
        "    <instruções>\n",
        "    return (<resultado_1>, <resultado_2>, ..., <resultado_n>)\n",
        "```"
      ]
    },
    {
      "cell_type": "code",
      "metadata": {
        "id": "v0PUMegVD1BA"
      },
      "source": [
        "def media(lista):\n",
        "  valor = sum(lista) / len(lista)\n",
        "  return (valor, len(lista))"
      ],
      "execution_count": 49,
      "outputs": []
    },
    {
      "cell_type": "code",
      "metadata": {
        "id": "Ys-etom8D1BA",
        "colab": {
          "base_uri": "https://localhost:8080/"
        },
        "outputId": "779cab15-83a5-4c6f-a7d4-71cc07e74226"
      },
      "source": [
        "media([1,2,3,4,5,6,7,8,9])"
      ],
      "execution_count": 51,
      "outputs": [
        {
          "output_type": "execute_result",
          "data": {
            "text/plain": [
              "(5.0, 9)"
            ]
          },
          "metadata": {},
          "execution_count": 51
        }
      ]
    },
    {
      "cell_type": "code",
      "metadata": {
        "id": "LERrvkMHD1BC"
      },
      "source": [
        "resultado, n = media([1,2,3,4,5,6,7,8,9])"
      ],
      "execution_count": 52,
      "outputs": []
    },
    {
      "cell_type": "code",
      "metadata": {
        "id": "sqoFOWSsD1BC",
        "colab": {
          "base_uri": "https://localhost:8080/"
        },
        "outputId": "747de5fb-db32-43be-c528-3e1f2135ed85"
      },
      "source": [
        "resultado"
      ],
      "execution_count": 53,
      "outputs": [
        {
          "output_type": "execute_result",
          "data": {
            "text/plain": [
              "5.0"
            ]
          },
          "metadata": {},
          "execution_count": 53
        }
      ]
    },
    {
      "cell_type": "code",
      "metadata": {
        "id": "NdB_Jyw_D1BD",
        "colab": {
          "base_uri": "https://localhost:8080/"
        },
        "outputId": "16caa631-5241-4b84-c015-4f0f983e2517"
      },
      "source": [
        "n"
      ],
      "execution_count": 54,
      "outputs": [
        {
          "output_type": "execute_result",
          "data": {
            "text/plain": [
              "9"
            ]
          },
          "metadata": {},
          "execution_count": 54
        }
      ]
    },
    {
      "cell_type": "code",
      "source": [
        "def km_media(dataset, ano_atual):\n",
        "    result = {}\n",
        "    for item in dataset.items():\n",
        "        media = item[1]['km'] / (ano_atual - item[1]['ano'])\n",
        "        result.update({ item[0]: media })\n",
        "    return result\n",
        "\n",
        "km_media(dados, 2019)"
      ],
      "metadata": {
        "colab": {
          "base_uri": "https://localhost:8080/"
        },
        "id": "GenAIWJMCLEp",
        "outputId": "1323a714-2c7c-463a-d58f-d1c3850c22f0"
      },
      "execution_count": 59,
      "outputs": [
        {
          "output_type": "execute_result",
          "data": {
            "text/plain": [
              "{'Crossfox': 2500.0,\n",
              " 'DS5': 4250.0,\n",
              " 'Fusca': 3250.0,\n",
              " 'Jetta': 7000.0,\n",
              " 'Passat': 3100.0}"
            ]
          },
          "metadata": {},
          "execution_count": 59
        }
      ]
    },
    {
      "cell_type": "markdown",
      "metadata": {
        "id": "uQ5lNnKrD1BD"
      },
      "source": [
        "# <font color=green> 5. PANDAS BÁSICO\n",
        "---\n",
        "\n",
        "**versão: 0.25.2**\n",
        "  \n",
        "Pandas é uma ferramenta de manipulação de dados de alto nível, construída com base no pacote Numpy. O pacote pandas possui estruturas de dados bastante interessantes para manipulação de dados e por isso é muito utilizado por cientistas de dados.\n",
        "\n",
        "\n",
        "## Estruturas de Dados\n",
        "\n",
        "### Series\n",
        "\n",
        "Series são arrays unidimensionais rotulados capazes de armazenar qualquer tipo de dado. Os rótulos das linhas são chamados de **index**. A forma básica de criação de uma Series é a seguinte:\n",
        "\n",
        "\n",
        "```\n",
        "    s = pd.Series(dados, index = index)\n",
        "```\n",
        "\n",
        "O argumento *dados* pode ser um dicionário, uma lista, um array Numpy ou uma constante.\n",
        "\n",
        "### DataFrames\n",
        "\n",
        "DataFrame é uma estrutura de dados tabular bidimensional com rótulos nas linha e colunas. Como a Series, os DataFrames são capazes de armazenar qualquer tipo de dados.\n",
        "\n",
        "\n",
        "```\n",
        "    df = pd.DataFrame(dados, index = index, columns = columns)\n",
        "```\n",
        "\n",
        "O argumento *dados* pode ser um dicionário, uma lista, um array Numpy, uma Series e outro DataFrame.\n",
        "\n",
        "**Documentação:** https://pandas.pydata.org/pandas-docs/version/0.25/"
      ]
    },
    {
      "cell_type": "markdown",
      "metadata": {
        "id": "2qa7RC03D1BD"
      },
      "source": [
        "# 5.1 Estruturas de dados"
      ]
    },
    {
      "cell_type": "code",
      "metadata": {
        "id": "4QyFDeS4D1BD"
      },
      "source": [],
      "execution_count": null,
      "outputs": []
    },
    {
      "cell_type": "markdown",
      "metadata": {
        "id": "kIey8_OcD1BF"
      },
      "source": [
        "### Criando uma Series a partir de uma lista"
      ]
    },
    {
      "cell_type": "code",
      "metadata": {
        "id": "yEZR6DWiD1BF"
      },
      "source": [],
      "execution_count": null,
      "outputs": []
    },
    {
      "cell_type": "code",
      "metadata": {
        "id": "rLudWKZ_D1BF"
      },
      "source": [],
      "execution_count": null,
      "outputs": []
    },
    {
      "cell_type": "markdown",
      "metadata": {
        "id": "VYVIKd1-D1BG"
      },
      "source": [
        "### Criando um DataFrame a partir de uma lista de dicionários"
      ]
    },
    {
      "cell_type": "code",
      "metadata": {
        "id": "QFNS9PckD1BG"
      },
      "source": [
        "dados = [\n",
        "    {'Nome': 'Jetta Variant', 'Motor': 'Motor 4.0 Turbo', 'Ano': 2003, 'Quilometragem': 44410.0, 'Zero_km': False, 'Valor': 88078.64},\n",
        "    {'Nome': 'Passat', 'Motor': 'Motor Diesel', 'Ano': 1991, 'Quilometragem': 5712.0, 'Zero_km': False, 'Valor': 106161.94},\n",
        "    {'Nome': 'Crossfox', 'Motor': 'Motor Diesel V8', 'Ano': 1990, 'Quilometragem': 37123.0, 'Zero_km': False, 'Valor': 72832.16}\n",
        "]"
      ],
      "execution_count": null,
      "outputs": []
    },
    {
      "cell_type": "code",
      "metadata": {
        "id": "WDQb9AnKD1BH"
      },
      "source": [],
      "execution_count": null,
      "outputs": []
    },
    {
      "cell_type": "code",
      "metadata": {
        "id": "-2-jGvmGD1BI"
      },
      "source": [],
      "execution_count": null,
      "outputs": []
    },
    {
      "cell_type": "code",
      "metadata": {
        "id": "2kbyOThiD1BJ"
      },
      "source": [],
      "execution_count": null,
      "outputs": []
    },
    {
      "cell_type": "markdown",
      "metadata": {
        "id": "pJK2tQgYD1BK"
      },
      "source": [
        "### Criando um DataFrame a partir de um dicionário"
      ]
    },
    {
      "cell_type": "code",
      "metadata": {
        "id": "WKNQwKucD1BK"
      },
      "source": [
        "dados = {\n",
        "    'Nome': ['Jetta Variant', 'Passat', 'Crossfox'],\n",
        "    'Motor': ['Motor 4.0 Turbo', 'Motor Diesel', 'Motor Diesel V8'],\n",
        "    'Ano': [2003, 1991, 1990],\n",
        "    'Quilometragem': [44410.0, 5712.0, 37123.0],\n",
        "    'Zero_km': [False, False, False],\n",
        "    'Valor': [88078.64, 106161.94, 72832.16]\n",
        "}"
      ],
      "execution_count": null,
      "outputs": []
    },
    {
      "cell_type": "code",
      "metadata": {
        "id": "lKnuZfzcD1BK"
      },
      "source": [],
      "execution_count": null,
      "outputs": []
    },
    {
      "cell_type": "code",
      "metadata": {
        "id": "PNqTytC-D1BL"
      },
      "source": [],
      "execution_count": null,
      "outputs": []
    },
    {
      "cell_type": "markdown",
      "metadata": {
        "id": "fCCXs0reD1BL"
      },
      "source": [
        "### Criando um DataFrame a partir de uma arquivo externo"
      ]
    },
    {
      "cell_type": "code",
      "metadata": {
        "id": "78PRHGeZD1BL"
      },
      "source": [],
      "execution_count": null,
      "outputs": []
    },
    {
      "cell_type": "code",
      "metadata": {
        "scrolled": true,
        "id": "1o1YlnVPD1BM"
      },
      "source": [],
      "execution_count": null,
      "outputs": []
    },
    {
      "cell_type": "markdown",
      "metadata": {
        "id": "y5V-1AK-D1BN"
      },
      "source": [
        "# 5.2 Seleções com DataFrames"
      ]
    },
    {
      "cell_type": "markdown",
      "metadata": {
        "id": "wZjqlHe9D1BN"
      },
      "source": [
        "### Selecionando colunas"
      ]
    },
    {
      "cell_type": "code",
      "metadata": {
        "scrolled": true,
        "id": "gM3LbtzlD1BN"
      },
      "source": [],
      "execution_count": null,
      "outputs": []
    },
    {
      "cell_type": "code",
      "metadata": {
        "id": "R2FWgCM_D1BO"
      },
      "source": [],
      "execution_count": null,
      "outputs": []
    },
    {
      "cell_type": "code",
      "metadata": {
        "scrolled": true,
        "id": "lCCumsxsD1BP"
      },
      "source": [],
      "execution_count": null,
      "outputs": []
    },
    {
      "cell_type": "code",
      "metadata": {
        "id": "zxlyC3B8D1BP"
      },
      "source": [],
      "execution_count": null,
      "outputs": []
    },
    {
      "cell_type": "markdown",
      "metadata": {
        "id": "7RPXPm1XD1BQ"
      },
      "source": [
        "### Selecionando linhas - [ i : j ]\n",
        "\n",
        "<font color=red>**Observação:**</font> A indexação tem origem no zero e nos fatiamentos (*slices*) a linha com índice i é **incluída** e a linha com índice j **não é incluída** no resultado."
      ]
    },
    {
      "cell_type": "code",
      "metadata": {
        "id": "PdDUwPw3D1BQ"
      },
      "source": [],
      "execution_count": null,
      "outputs": []
    },
    {
      "cell_type": "markdown",
      "metadata": {
        "id": "G3DMSk97D1BR"
      },
      "source": [
        "### Utilizando .loc para seleções\n",
        "\n",
        "<font color=red>**Observação:**</font> Seleciona um grupo de linhas e colunas segundo os rótulos ou uma matriz booleana."
      ]
    },
    {
      "cell_type": "code",
      "metadata": {
        "id": "Ftg-hNOoD1BR"
      },
      "source": [],
      "execution_count": null,
      "outputs": []
    },
    {
      "cell_type": "code",
      "metadata": {
        "id": "xdxkDrHvD1BS"
      },
      "source": [],
      "execution_count": null,
      "outputs": []
    },
    {
      "cell_type": "code",
      "metadata": {
        "id": "pMN3U1KjD1BS"
      },
      "source": [],
      "execution_count": null,
      "outputs": []
    },
    {
      "cell_type": "code",
      "metadata": {
        "scrolled": true,
        "id": "oOEO72uZD1BT"
      },
      "source": [],
      "execution_count": null,
      "outputs": []
    },
    {
      "cell_type": "markdown",
      "metadata": {
        "id": "SYKEe3vCD1BT"
      },
      "source": [
        "### Utilizando .iloc para seleções\n",
        "\n",
        "<font color=red>**Observação:**</font> Seleciona com base nos índices, ou seja, se baseia na posição das informações."
      ]
    },
    {
      "cell_type": "code",
      "metadata": {
        "id": "U4Bru90bD1BT"
      },
      "source": [],
      "execution_count": null,
      "outputs": []
    },
    {
      "cell_type": "code",
      "metadata": {
        "id": "iLKUyrzND1BU"
      },
      "source": [],
      "execution_count": null,
      "outputs": []
    },
    {
      "cell_type": "code",
      "metadata": {
        "id": "KGZpixYUD1BU"
      },
      "source": [],
      "execution_count": null,
      "outputs": []
    },
    {
      "cell_type": "code",
      "metadata": {
        "id": "GxdqIz4LD1BV"
      },
      "source": [],
      "execution_count": null,
      "outputs": []
    },
    {
      "cell_type": "code",
      "metadata": {
        "scrolled": true,
        "id": "AVIhs7uLD1BW"
      },
      "source": [],
      "execution_count": null,
      "outputs": []
    },
    {
      "cell_type": "markdown",
      "metadata": {
        "id": "eAbwq1oLD1BW"
      },
      "source": [
        "# 5.3 Queries com DataFrames"
      ]
    },
    {
      "cell_type": "code",
      "metadata": {
        "scrolled": true,
        "id": "AOZTWzehD1BW"
      },
      "source": [],
      "execution_count": null,
      "outputs": []
    },
    {
      "cell_type": "code",
      "metadata": {
        "scrolled": true,
        "id": "rO5T4h94D1BX"
      },
      "source": [],
      "execution_count": null,
      "outputs": []
    },
    {
      "cell_type": "code",
      "metadata": {
        "id": "STZ-l8oaD1BX"
      },
      "source": [],
      "execution_count": null,
      "outputs": []
    },
    {
      "cell_type": "code",
      "metadata": {
        "id": "OZC8NAn6D1BX"
      },
      "source": [],
      "execution_count": null,
      "outputs": []
    },
    {
      "cell_type": "code",
      "metadata": {
        "scrolled": true,
        "id": "OzXC2M40D1BY"
      },
      "source": [],
      "execution_count": null,
      "outputs": []
    },
    {
      "cell_type": "markdown",
      "metadata": {
        "id": "_XKXcWO-D1BY"
      },
      "source": [
        "### Utilizando o método query"
      ]
    },
    {
      "cell_type": "code",
      "metadata": {
        "id": "AB9JirSoD1BY"
      },
      "source": [],
      "execution_count": null,
      "outputs": []
    },
    {
      "cell_type": "markdown",
      "metadata": {
        "id": "ciJ4dw_FD1BZ"
      },
      "source": [
        "# 5.4 Iterando com DataFrames"
      ]
    },
    {
      "cell_type": "code",
      "metadata": {
        "id": "TKAB-g5KD1BZ"
      },
      "source": [],
      "execution_count": null,
      "outputs": []
    },
    {
      "cell_type": "code",
      "metadata": {
        "id": "eFTNtPRWD1Ba"
      },
      "source": [],
      "execution_count": null,
      "outputs": []
    },
    {
      "cell_type": "markdown",
      "metadata": {
        "id": "HnUzHFQPD1Ba"
      },
      "source": [
        "# 5.5 Tratamento de dados"
      ]
    },
    {
      "cell_type": "code",
      "metadata": {
        "id": "FRxBWoBGD1Ba"
      },
      "source": [],
      "execution_count": null,
      "outputs": []
    },
    {
      "cell_type": "code",
      "metadata": {
        "id": "HHSwH0ZaD1Bc"
      },
      "source": [],
      "execution_count": null,
      "outputs": []
    },
    {
      "cell_type": "code",
      "metadata": {
        "scrolled": true,
        "id": "G27pxgZ5D1Bd"
      },
      "source": [],
      "execution_count": null,
      "outputs": []
    },
    {
      "cell_type": "code",
      "metadata": {
        "scrolled": true,
        "id": "DhlRbxy2D1Bd"
      },
      "source": [],
      "execution_count": null,
      "outputs": []
    },
    {
      "cell_type": "code",
      "metadata": {
        "id": "OL04QU5RD1Be"
      },
      "source": [],
      "execution_count": null,
      "outputs": []
    },
    {
      "cell_type": "code",
      "metadata": {
        "scrolled": true,
        "id": "fTH2JkGDD1Bf"
      },
      "source": [],
      "execution_count": null,
      "outputs": []
    },
    {
      "cell_type": "code",
      "metadata": {
        "id": "lure2GvpD1Bg"
      },
      "source": [],
      "execution_count": null,
      "outputs": []
    },
    {
      "cell_type": "code",
      "metadata": {
        "id": "4-ZvhXjvD1Bj"
      },
      "source": [],
      "execution_count": null,
      "outputs": []
    },
    {
      "cell_type": "code",
      "metadata": {
        "scrolled": true,
        "id": "MQUw7i1OD1Bk"
      },
      "source": [],
      "execution_count": null,
      "outputs": []
    },
    {
      "cell_type": "code",
      "metadata": {
        "id": "U4Cse7miD1Bl"
      },
      "source": [],
      "execution_count": null,
      "outputs": []
    },
    {
      "cell_type": "code",
      "metadata": {
        "scrolled": true,
        "id": "8L4wum05D1Bl"
      },
      "source": [],
      "execution_count": null,
      "outputs": []
    },
    {
      "cell_type": "code",
      "metadata": {
        "id": "8iLOc-U3D1Bm"
      },
      "source": [],
      "execution_count": null,
      "outputs": []
    }
  ]
}